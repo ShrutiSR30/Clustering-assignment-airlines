{
  "nbformat": 4,
  "nbformat_minor": 0,
  "metadata": {
    "kernelspec": {
      "display_name": "Python 3",
      "language": "python",
      "name": "python3"
    },
    "language_info": {
      "codemirror_mode": {
        "name": "ipython",
        "version": 3
      },
      "file_extension": ".py",
      "mimetype": "text/x-python",
      "name": "python",
      "nbconvert_exporter": "python",
      "pygments_lexer": "ipython3",
      "version": "3.8.5"
    },
    "colab": {
      "name": "Clustering Assignments.Airlines",
      "provenance": []
    }
  },
  "cells": [
    {
      "cell_type": "markdown",
      "metadata": {
        "id": "_5N1q4yUBvXY"
      },
      "source": [
        "# Clustering Assignments on EastWestAirlines Data"
      ]
    },
    {
      "cell_type": "code",
      "metadata": {
        "colab": {
          "base_uri": "https://localhost:8080/"
        },
        "id": "WP0WmfDNKB_4",
        "outputId": "7e094cb6-988d-4d3b-838b-0135a1b52720"
      },
      "source": [
        "from google.colab import drive\n",
        "drive.mount('/content/drive')"
      ],
      "execution_count": 1,
      "outputs": [
        {
          "output_type": "stream",
          "name": "stdout",
          "text": [
            "Mounted at /content/drive\n"
          ]
        }
      ]
    },
    {
      "cell_type": "markdown",
      "metadata": {
        "id": "g6Ni96STBvXl"
      },
      "source": [
        "## Objective - Perform clustering (Both hierarchical and K means clustering) for the airlines data to obtain optimum number of clusters. Draw the inferences from the clusters obtained."
      ]
    },
    {
      "cell_type": "markdown",
      "metadata": {
        "id": "NS-8tcO9BvXm"
      },
      "source": [
        "## Dataset - EastWestAirlines"
      ]
    },
    {
      "cell_type": "markdown",
      "metadata": {
        "id": "Mu3juecHBvXn"
      },
      "source": [
        "### Import the important libraries"
      ]
    },
    {
      "cell_type": "code",
      "metadata": {
        "id": "5Auiaj0kBvXn"
      },
      "source": [
        "import pandas as pd\n",
        "import numpy as np\n",
        "import seaborn as sns\n",
        "import matplotlib.pyplot as plt\n",
        "import scipy.cluster.hierarchy as sch\n",
        "from sklearn.cluster import AgglomerativeClustering\n",
        "%matplotlib inline"
      ],
      "execution_count": 2,
      "outputs": []
    },
    {
      "cell_type": "markdown",
      "metadata": {
        "id": "PvT6wez3BvXo"
      },
      "source": [
        "### Load the dataset"
      ]
    },
    {
      "cell_type": "code",
      "metadata": {
        "id": "ofFboZ8nBvXp"
      },
      "source": [
        "Airlines = pd.read_excel('/content/drive/MyDrive/Colab Notebooks/EastWestAirlines (2).xlsx',sheet_name='data')"
      ],
      "execution_count": 3,
      "outputs": []
    },
    {
      "cell_type": "code",
      "metadata": {
        "id": "a99zHx4SBvXq",
        "colab": {
          "base_uri": "https://localhost:8080/",
          "height": 204
        },
        "outputId": "6d20d767-f68a-4856-8f3c-bb3160c50f89"
      },
      "source": [
        "Airlines.head()"
      ],
      "execution_count": 4,
      "outputs": [
        {
          "output_type": "execute_result",
          "data": {
            "text/html": [
              "<div>\n",
              "<style scoped>\n",
              "    .dataframe tbody tr th:only-of-type {\n",
              "        vertical-align: middle;\n",
              "    }\n",
              "\n",
              "    .dataframe tbody tr th {\n",
              "        vertical-align: top;\n",
              "    }\n",
              "\n",
              "    .dataframe thead th {\n",
              "        text-align: right;\n",
              "    }\n",
              "</style>\n",
              "<table border=\"1\" class=\"dataframe\">\n",
              "  <thead>\n",
              "    <tr style=\"text-align: right;\">\n",
              "      <th></th>\n",
              "      <th>ID#</th>\n",
              "      <th>Balance</th>\n",
              "      <th>Qual_miles</th>\n",
              "      <th>cc1_miles</th>\n",
              "      <th>cc2_miles</th>\n",
              "      <th>cc3_miles</th>\n",
              "      <th>Bonus_miles</th>\n",
              "      <th>Bonus_trans</th>\n",
              "      <th>Flight_miles_12mo</th>\n",
              "      <th>Flight_trans_12</th>\n",
              "      <th>Days_since_enroll</th>\n",
              "      <th>Award?</th>\n",
              "    </tr>\n",
              "  </thead>\n",
              "  <tbody>\n",
              "    <tr>\n",
              "      <th>0</th>\n",
              "      <td>1</td>\n",
              "      <td>28143</td>\n",
              "      <td>0</td>\n",
              "      <td>1</td>\n",
              "      <td>1</td>\n",
              "      <td>1</td>\n",
              "      <td>174</td>\n",
              "      <td>1</td>\n",
              "      <td>0</td>\n",
              "      <td>0</td>\n",
              "      <td>7000</td>\n",
              "      <td>0</td>\n",
              "    </tr>\n",
              "    <tr>\n",
              "      <th>1</th>\n",
              "      <td>2</td>\n",
              "      <td>19244</td>\n",
              "      <td>0</td>\n",
              "      <td>1</td>\n",
              "      <td>1</td>\n",
              "      <td>1</td>\n",
              "      <td>215</td>\n",
              "      <td>2</td>\n",
              "      <td>0</td>\n",
              "      <td>0</td>\n",
              "      <td>6968</td>\n",
              "      <td>0</td>\n",
              "    </tr>\n",
              "    <tr>\n",
              "      <th>2</th>\n",
              "      <td>3</td>\n",
              "      <td>41354</td>\n",
              "      <td>0</td>\n",
              "      <td>1</td>\n",
              "      <td>1</td>\n",
              "      <td>1</td>\n",
              "      <td>4123</td>\n",
              "      <td>4</td>\n",
              "      <td>0</td>\n",
              "      <td>0</td>\n",
              "      <td>7034</td>\n",
              "      <td>0</td>\n",
              "    </tr>\n",
              "    <tr>\n",
              "      <th>3</th>\n",
              "      <td>4</td>\n",
              "      <td>14776</td>\n",
              "      <td>0</td>\n",
              "      <td>1</td>\n",
              "      <td>1</td>\n",
              "      <td>1</td>\n",
              "      <td>500</td>\n",
              "      <td>1</td>\n",
              "      <td>0</td>\n",
              "      <td>0</td>\n",
              "      <td>6952</td>\n",
              "      <td>0</td>\n",
              "    </tr>\n",
              "    <tr>\n",
              "      <th>4</th>\n",
              "      <td>5</td>\n",
              "      <td>97752</td>\n",
              "      <td>0</td>\n",
              "      <td>4</td>\n",
              "      <td>1</td>\n",
              "      <td>1</td>\n",
              "      <td>43300</td>\n",
              "      <td>26</td>\n",
              "      <td>2077</td>\n",
              "      <td>4</td>\n",
              "      <td>6935</td>\n",
              "      <td>1</td>\n",
              "    </tr>\n",
              "  </tbody>\n",
              "</table>\n",
              "</div>"
            ],
            "text/plain": [
              "   ID#  Balance  Qual_miles  ...  Flight_trans_12  Days_since_enroll  Award?\n",
              "0    1    28143           0  ...                0               7000       0\n",
              "1    2    19244           0  ...                0               6968       0\n",
              "2    3    41354           0  ...                0               7034       0\n",
              "3    4    14776           0  ...                0               6952       0\n",
              "4    5    97752           0  ...                4               6935       1\n",
              "\n",
              "[5 rows x 12 columns]"
            ]
          },
          "metadata": {},
          "execution_count": 4
        }
      ]
    },
    {
      "cell_type": "code",
      "metadata": {
        "id": "9Kud2xkxBvXs",
        "colab": {
          "base_uri": "https://localhost:8080/"
        },
        "outputId": "3326da60-a20f-4a98-8698-4797ca7435eb"
      },
      "source": [
        "Airlines.columns"
      ],
      "execution_count": 5,
      "outputs": [
        {
          "output_type": "execute_result",
          "data": {
            "text/plain": [
              "Index(['ID#', 'Balance', 'Qual_miles', 'cc1_miles', 'cc2_miles', 'cc3_miles',\n",
              "       'Bonus_miles', 'Bonus_trans', 'Flight_miles_12mo', 'Flight_trans_12',\n",
              "       'Days_since_enroll', 'Award?'],\n",
              "      dtype='object')"
            ]
          },
          "metadata": {},
          "execution_count": 5
        }
      ]
    },
    {
      "cell_type": "markdown",
      "metadata": {
        "id": "3NkIYbSpBvXt"
      },
      "source": [
        "#### Remove the ID column from the dataset as it is only represent the ID number(Serial number) and store the dataset into a new name"
      ]
    },
    {
      "cell_type": "code",
      "metadata": {
        "id": "8Tx6DpzhBvXt"
      },
      "source": [
        "Airlines1 = Airlines.drop('ID#', axis=1)"
      ],
      "execution_count": 6,
      "outputs": []
    },
    {
      "cell_type": "code",
      "metadata": {
        "id": "nvVQde1BBvXu",
        "colab": {
          "base_uri": "https://localhost:8080/",
          "height": 204
        },
        "outputId": "125e02aa-d37c-4d4f-ead9-630bfd5c66c6"
      },
      "source": [
        "Airlines1.head()"
      ],
      "execution_count": 7,
      "outputs": [
        {
          "output_type": "execute_result",
          "data": {
            "text/html": [
              "<div>\n",
              "<style scoped>\n",
              "    .dataframe tbody tr th:only-of-type {\n",
              "        vertical-align: middle;\n",
              "    }\n",
              "\n",
              "    .dataframe tbody tr th {\n",
              "        vertical-align: top;\n",
              "    }\n",
              "\n",
              "    .dataframe thead th {\n",
              "        text-align: right;\n",
              "    }\n",
              "</style>\n",
              "<table border=\"1\" class=\"dataframe\">\n",
              "  <thead>\n",
              "    <tr style=\"text-align: right;\">\n",
              "      <th></th>\n",
              "      <th>Balance</th>\n",
              "      <th>Qual_miles</th>\n",
              "      <th>cc1_miles</th>\n",
              "      <th>cc2_miles</th>\n",
              "      <th>cc3_miles</th>\n",
              "      <th>Bonus_miles</th>\n",
              "      <th>Bonus_trans</th>\n",
              "      <th>Flight_miles_12mo</th>\n",
              "      <th>Flight_trans_12</th>\n",
              "      <th>Days_since_enroll</th>\n",
              "      <th>Award?</th>\n",
              "    </tr>\n",
              "  </thead>\n",
              "  <tbody>\n",
              "    <tr>\n",
              "      <th>0</th>\n",
              "      <td>28143</td>\n",
              "      <td>0</td>\n",
              "      <td>1</td>\n",
              "      <td>1</td>\n",
              "      <td>1</td>\n",
              "      <td>174</td>\n",
              "      <td>1</td>\n",
              "      <td>0</td>\n",
              "      <td>0</td>\n",
              "      <td>7000</td>\n",
              "      <td>0</td>\n",
              "    </tr>\n",
              "    <tr>\n",
              "      <th>1</th>\n",
              "      <td>19244</td>\n",
              "      <td>0</td>\n",
              "      <td>1</td>\n",
              "      <td>1</td>\n",
              "      <td>1</td>\n",
              "      <td>215</td>\n",
              "      <td>2</td>\n",
              "      <td>0</td>\n",
              "      <td>0</td>\n",
              "      <td>6968</td>\n",
              "      <td>0</td>\n",
              "    </tr>\n",
              "    <tr>\n",
              "      <th>2</th>\n",
              "      <td>41354</td>\n",
              "      <td>0</td>\n",
              "      <td>1</td>\n",
              "      <td>1</td>\n",
              "      <td>1</td>\n",
              "      <td>4123</td>\n",
              "      <td>4</td>\n",
              "      <td>0</td>\n",
              "      <td>0</td>\n",
              "      <td>7034</td>\n",
              "      <td>0</td>\n",
              "    </tr>\n",
              "    <tr>\n",
              "      <th>3</th>\n",
              "      <td>14776</td>\n",
              "      <td>0</td>\n",
              "      <td>1</td>\n",
              "      <td>1</td>\n",
              "      <td>1</td>\n",
              "      <td>500</td>\n",
              "      <td>1</td>\n",
              "      <td>0</td>\n",
              "      <td>0</td>\n",
              "      <td>6952</td>\n",
              "      <td>0</td>\n",
              "    </tr>\n",
              "    <tr>\n",
              "      <th>4</th>\n",
              "      <td>97752</td>\n",
              "      <td>0</td>\n",
              "      <td>4</td>\n",
              "      <td>1</td>\n",
              "      <td>1</td>\n",
              "      <td>43300</td>\n",
              "      <td>26</td>\n",
              "      <td>2077</td>\n",
              "      <td>4</td>\n",
              "      <td>6935</td>\n",
              "      <td>1</td>\n",
              "    </tr>\n",
              "  </tbody>\n",
              "</table>\n",
              "</div>"
            ],
            "text/plain": [
              "   Balance  Qual_miles  cc1_miles  ...  Flight_trans_12  Days_since_enroll  Award?\n",
              "0    28143           0          1  ...                0               7000       0\n",
              "1    19244           0          1  ...                0               6968       0\n",
              "2    41354           0          1  ...                0               7034       0\n",
              "3    14776           0          1  ...                0               6952       0\n",
              "4    97752           0          4  ...                4               6935       1\n",
              "\n",
              "[5 rows x 11 columns]"
            ]
          },
          "metadata": {},
          "execution_count": 7
        }
      ]
    },
    {
      "cell_type": "markdown",
      "metadata": {
        "id": "aS7gUbiTBvXv"
      },
      "source": [
        "### Cheking of Null values"
      ]
    },
    {
      "cell_type": "code",
      "metadata": {
        "id": "8gL_Iuz7BvXv",
        "colab": {
          "base_uri": "https://localhost:8080/"
        },
        "outputId": "566777d4-249f-4506-f0a7-794e0c3ce067"
      },
      "source": [
        "Airlines1.info()"
      ],
      "execution_count": 8,
      "outputs": [
        {
          "output_type": "stream",
          "name": "stdout",
          "text": [
            "<class 'pandas.core.frame.DataFrame'>\n",
            "RangeIndex: 3999 entries, 0 to 3998\n",
            "Data columns (total 11 columns):\n",
            " #   Column             Non-Null Count  Dtype\n",
            "---  ------             --------------  -----\n",
            " 0   Balance            3999 non-null   int64\n",
            " 1   Qual_miles         3999 non-null   int64\n",
            " 2   cc1_miles          3999 non-null   int64\n",
            " 3   cc2_miles          3999 non-null   int64\n",
            " 4   cc3_miles          3999 non-null   int64\n",
            " 5   Bonus_miles        3999 non-null   int64\n",
            " 6   Bonus_trans        3999 non-null   int64\n",
            " 7   Flight_miles_12mo  3999 non-null   int64\n",
            " 8   Flight_trans_12    3999 non-null   int64\n",
            " 9   Days_since_enroll  3999 non-null   int64\n",
            " 10  Award?             3999 non-null   int64\n",
            "dtypes: int64(11)\n",
            "memory usage: 343.8 KB\n"
          ]
        }
      ]
    },
    {
      "cell_type": "markdown",
      "metadata": {
        "id": "2Avei2mGBvXw"
      },
      "source": [
        "**There is no null value present inside the data set and also the data types of all attributes are appropriate**"
      ]
    },
    {
      "cell_type": "markdown",
      "metadata": {
        "id": "12HeaOXKBvXw"
      },
      "source": [
        "### Duplicate Value check and drop"
      ]
    },
    {
      "cell_type": "code",
      "metadata": {
        "id": "FIoDq1-YBvXx",
        "colab": {
          "base_uri": "https://localhost:8080/",
          "height": 49
        },
        "outputId": "a73caa1c-a9ba-4490-c9c7-bedabae87259"
      },
      "source": [
        "Airlines1[Airlines.duplicated(keep = False)]"
      ],
      "execution_count": 9,
      "outputs": [
        {
          "output_type": "execute_result",
          "data": {
            "text/html": [
              "<div>\n",
              "<style scoped>\n",
              "    .dataframe tbody tr th:only-of-type {\n",
              "        vertical-align: middle;\n",
              "    }\n",
              "\n",
              "    .dataframe tbody tr th {\n",
              "        vertical-align: top;\n",
              "    }\n",
              "\n",
              "    .dataframe thead th {\n",
              "        text-align: right;\n",
              "    }\n",
              "</style>\n",
              "<table border=\"1\" class=\"dataframe\">\n",
              "  <thead>\n",
              "    <tr style=\"text-align: right;\">\n",
              "      <th></th>\n",
              "      <th>Balance</th>\n",
              "      <th>Qual_miles</th>\n",
              "      <th>cc1_miles</th>\n",
              "      <th>cc2_miles</th>\n",
              "      <th>cc3_miles</th>\n",
              "      <th>Bonus_miles</th>\n",
              "      <th>Bonus_trans</th>\n",
              "      <th>Flight_miles_12mo</th>\n",
              "      <th>Flight_trans_12</th>\n",
              "      <th>Days_since_enroll</th>\n",
              "      <th>Award?</th>\n",
              "    </tr>\n",
              "  </thead>\n",
              "  <tbody>\n",
              "  </tbody>\n",
              "</table>\n",
              "</div>"
            ],
            "text/plain": [
              "Empty DataFrame\n",
              "Columns: [Balance, Qual_miles, cc1_miles, cc2_miles, cc3_miles, Bonus_miles, Bonus_trans, Flight_miles_12mo, Flight_trans_12, Days_since_enroll, Award?]\n",
              "Index: []"
            ]
          },
          "metadata": {},
          "execution_count": 9
        }
      ]
    },
    {
      "cell_type": "markdown",
      "metadata": {
        "id": "JcIR2hdSBvXx"
      },
      "source": [
        "**There is no duplicate value present inside the dataset** "
      ]
    },
    {
      "cell_type": "markdown",
      "metadata": {
        "id": "ZXj45o5kBvXy"
      },
      "source": [
        "### Checking for outliers"
      ]
    },
    {
      "cell_type": "code",
      "metadata": {
        "id": "qONLZ04kBvXy",
        "colab": {
          "base_uri": "https://localhost:8080/",
          "height": 1000
        },
        "outputId": "8b2ba293-f255-463b-fea5-ad3a59e2ece4"
      },
      "source": [
        "import warnings\n",
        "fig, ax = plt.subplots(4, 3, figsize=(15,10))\n",
        "sns.boxplot(Airlines1.Balance, ax=ax[0,0])\n",
        "sns.boxplot(Airlines1.Qual_miles, ax=ax[0,1])\n",
        "sns.boxplot(Airlines1.cc1_miles, ax=ax[0,2])\n",
        "sns.boxplot(Airlines1.cc2_miles, ax=ax[1,0])\n",
        "sns.boxplot(Airlines1.cc3_miles, ax=ax[1,1])\n",
        "sns.boxplot(Airlines1.Bonus_miles, ax=ax[1,2])\n",
        "sns.boxplot(Airlines1.Bonus_trans, ax=ax[2,0])\n",
        "sns.boxplot(Airlines1.Flight_miles_12mo, ax=ax[2,1])\n",
        "sns.boxplot(Airlines1. Flight_trans_12, ax=ax[2,2])\n",
        "sns.boxplot(Airlines1.Days_since_enroll, ax=ax[3,0])\n",
        "sns.boxplot(Airlines1[\"Award?\"] , ax=ax[3,1])\n",
        "plt.tight_layout()\n",
        "plt.show()"
      ],
      "execution_count": 10,
      "outputs": [
        {
          "output_type": "stream",
          "name": "stderr",
          "text": [
            "/usr/local/lib/python3.7/dist-packages/seaborn/_decorators.py:43: FutureWarning: Pass the following variable as a keyword arg: x. From version 0.12, the only valid positional argument will be `data`, and passing other arguments without an explicit keyword will result in an error or misinterpretation.\n",
            "  FutureWarning\n",
            "/usr/local/lib/python3.7/dist-packages/seaborn/_decorators.py:43: FutureWarning: Pass the following variable as a keyword arg: x. From version 0.12, the only valid positional argument will be `data`, and passing other arguments without an explicit keyword will result in an error or misinterpretation.\n",
            "  FutureWarning\n",
            "/usr/local/lib/python3.7/dist-packages/seaborn/_decorators.py:43: FutureWarning: Pass the following variable as a keyword arg: x. From version 0.12, the only valid positional argument will be `data`, and passing other arguments without an explicit keyword will result in an error or misinterpretation.\n",
            "  FutureWarning\n",
            "/usr/local/lib/python3.7/dist-packages/seaborn/_decorators.py:43: FutureWarning: Pass the following variable as a keyword arg: x. From version 0.12, the only valid positional argument will be `data`, and passing other arguments without an explicit keyword will result in an error or misinterpretation.\n",
            "  FutureWarning\n",
            "/usr/local/lib/python3.7/dist-packages/seaborn/_decorators.py:43: FutureWarning: Pass the following variable as a keyword arg: x. From version 0.12, the only valid positional argument will be `data`, and passing other arguments without an explicit keyword will result in an error or misinterpretation.\n",
            "  FutureWarning\n",
            "/usr/local/lib/python3.7/dist-packages/seaborn/_decorators.py:43: FutureWarning: Pass the following variable as a keyword arg: x. From version 0.12, the only valid positional argument will be `data`, and passing other arguments without an explicit keyword will result in an error or misinterpretation.\n",
            "  FutureWarning\n",
            "/usr/local/lib/python3.7/dist-packages/seaborn/_decorators.py:43: FutureWarning: Pass the following variable as a keyword arg: x. From version 0.12, the only valid positional argument will be `data`, and passing other arguments without an explicit keyword will result in an error or misinterpretation.\n",
            "  FutureWarning\n",
            "/usr/local/lib/python3.7/dist-packages/seaborn/_decorators.py:43: FutureWarning: Pass the following variable as a keyword arg: x. From version 0.12, the only valid positional argument will be `data`, and passing other arguments without an explicit keyword will result in an error or misinterpretation.\n",
            "  FutureWarning\n",
            "/usr/local/lib/python3.7/dist-packages/seaborn/_decorators.py:43: FutureWarning: Pass the following variable as a keyword arg: x. From version 0.12, the only valid positional argument will be `data`, and passing other arguments without an explicit keyword will result in an error or misinterpretation.\n",
            "  FutureWarning\n",
            "/usr/local/lib/python3.7/dist-packages/seaborn/_decorators.py:43: FutureWarning: Pass the following variable as a keyword arg: x. From version 0.12, the only valid positional argument will be `data`, and passing other arguments without an explicit keyword will result in an error or misinterpretation.\n",
            "  FutureWarning\n",
            "/usr/local/lib/python3.7/dist-packages/seaborn/_decorators.py:43: FutureWarning: Pass the following variable as a keyword arg: x. From version 0.12, the only valid positional argument will be `data`, and passing other arguments without an explicit keyword will result in an error or misinterpretation.\n",
            "  FutureWarning\n"
          ]
        },
        {
          "output_type": "display_data",
          "data": {
            "image/png": "[encoded data removed]",
            "text/plain": [
              "<Figure size 1080x720 with 12 Axes>"
            ]
          },
          "metadata": {
            "needs_background": "light"
          }
        }
      ]
    },
    {
      "cell_type": "markdown",
      "metadata": {
        "id": "7t1So2bABvXz"
      },
      "source": [
        "## Distribution of all Attributes"
      ]
    },
    {
      "cell_type": "code",
      "metadata": {
        "id": "OuPEz3UNBvX0",
        "colab": {
          "base_uri": "https://localhost:8080/",
          "height": 907
        },
        "outputId": "c65f2f7d-07d6-41d4-f8af-cd986c707f64"
      },
      "source": [
        "fig, ax = plt.subplots(4, 3, figsize=(15,7))\n",
        "sns.distplot(Airlines1.Balance, ax=ax[0,0])\n",
        "sns.distplot(Airlines1.Qual_miles, ax=ax[0,1])\n",
        "sns.distplot(Airlines1.cc1_miles, ax=ax[0,2])\n",
        "sns.distplot(Airlines1.cc2_miles, ax=ax[1,0])\n",
        "sns.distplot(Airlines1.cc3_miles, ax=ax[1,1])\n",
        "sns.distplot(Airlines1.Bonus_miles, ax=ax[1,2])\n",
        "sns.distplot(Airlines1.Bonus_trans, ax=ax[2,0])\n",
        "sns.distplot(Airlines1.Flight_miles_12mo, ax=ax[2,1])\n",
        "sns.distplot(Airlines1. Flight_trans_12, ax=ax[2,2])\n",
        "sns.distplot(Airlines1.Days_since_enroll, ax=ax[3,0])\n",
        "sns.distplot(Airlines1[\"Award?\"] , ax=ax[3,1])\n",
        "plt.tight_layout()\n",
        "plt.show()"
      ],
      "execution_count": 11,
      "outputs": [
        {
          "output_type": "stream",
          "name": "stderr",
          "text": [
            "/usr/local/lib/python3.7/dist-packages/seaborn/distributions.py:2557: FutureWarning: `distplot` is a deprecated function and will be removed in a future version. Please adapt your code to use either `displot` (a figure-level function with similar flexibility) or `histplot` (an axes-level function for histograms).\n",
            "  warnings.warn(msg, FutureWarning)\n",
            "/usr/local/lib/python3.7/dist-packages/seaborn/distributions.py:2557: FutureWarning: `distplot` is a deprecated function and will be removed in a future version. Please adapt your code to use either `displot` (a figure-level function with similar flexibility) or `histplot` (an axes-level function for histograms).\n",
            "  warnings.warn(msg, FutureWarning)\n",
            "/usr/local/lib/python3.7/dist-packages/seaborn/distributions.py:2557: FutureWarning: `distplot` is a deprecated function and will be removed in a future version. Please adapt your code to use either `displot` (a figure-level function with similar flexibility) or `histplot` (an axes-level function for histograms).\n",
            "  warnings.warn(msg, FutureWarning)\n",
            "/usr/local/lib/python3.7/dist-packages/seaborn/distributions.py:2557: FutureWarning: `distplot` is a deprecated function and will be removed in a future version. Please adapt your code to use either `displot` (a figure-level function with similar flexibility) or `histplot` (an axes-level function for histograms).\n",
            "  warnings.warn(msg, FutureWarning)\n",
            "/usr/local/lib/python3.7/dist-packages/seaborn/distributions.py:2557: FutureWarning: `distplot` is a deprecated function and will be removed in a future version. Please adapt your code to use either `displot` (a figure-level function with similar flexibility) or `histplot` (an axes-level function for histograms).\n",
            "  warnings.warn(msg, FutureWarning)\n",
            "/usr/local/lib/python3.7/dist-packages/seaborn/distributions.py:2557: FutureWarning: `distplot` is a deprecated function and will be removed in a future version. Please adapt your code to use either `displot` (a figure-level function with similar flexibility) or `histplot` (an axes-level function for histograms).\n",
            "  warnings.warn(msg, FutureWarning)\n",
            "/usr/local/lib/python3.7/dist-packages/seaborn/distributions.py:2557: FutureWarning: `distplot` is a deprecated function and will be removed in a future version. Please adapt your code to use either `displot` (a figure-level function with similar flexibility) or `histplot` (an axes-level function for histograms).\n",
            "  warnings.warn(msg, FutureWarning)\n",
            "/usr/local/lib/python3.7/dist-packages/seaborn/distributions.py:2557: FutureWarning: `distplot` is a deprecated function and will be removed in a future version. Please adapt your code to use either `displot` (a figure-level function with similar flexibility) or `histplot` (an axes-level function for histograms).\n",
            "  warnings.warn(msg, FutureWarning)\n",
            "/usr/local/lib/python3.7/dist-packages/seaborn/distributions.py:2557: FutureWarning: `distplot` is a deprecated function and will be removed in a future version. Please adapt your code to use either `displot` (a figure-level function with similar flexibility) or `histplot` (an axes-level function for histograms).\n",
            "  warnings.warn(msg, FutureWarning)\n",
            "/usr/local/lib/python3.7/dist-packages/seaborn/distributions.py:2557: FutureWarning: `distplot` is a deprecated function and will be removed in a future version. Please adapt your code to use either `displot` (a figure-level function with similar flexibility) or `histplot` (an axes-level function for histograms).\n",
            "  warnings.warn(msg, FutureWarning)\n",
            "/usr/local/lib/python3.7/dist-packages/seaborn/distributions.py:2557: FutureWarning: `distplot` is a deprecated function and will be removed in a future version. Please adapt your code to use either `displot` (a figure-level function with similar flexibility) or `histplot` (an axes-level function for histograms).\n",
            "  warnings.warn(msg, FutureWarning)\n"
          ]
        },
        {
          "output_type": "display_data",
          "data": {
            "image/png": "[encoded data removed]",
            "text/plain": [
              "<Figure size 1080x504 with 12 Axes>"
            ]
          },
          "metadata": {
            "needs_background": "light"
          }
        }
      ]
    },
    {
      "cell_type": "markdown",
      "metadata": {
        "id": "XSJhZQrhBvX1"
      },
      "source": [
        "#  using power transformation to standardize"
      ]
    },
    {
      "cell_type": "code",
      "metadata": {
        "id": "tWbuQFQxBvX1",
        "colab": {
          "base_uri": "https://localhost:8080/"
        },
        "outputId": "ab8c9c55-8d87-43ca-fef5-6ef6b907760c"
      },
      "source": [
        "from sklearn.preprocessing import power_transform\n",
        "# Extract the specific column and convert it as a numpy array\n",
        "Airlines2 = Airlines1[[\"Balance\",\"Qual_miles\",\"cc1_miles\",\"cc2_miles\",\"cc3_miles\",\"Bonus_miles\",\"Bonus_trans\",\"Flight_miles_12mo\",\"Flight_trans_12\",\"Days_since_enroll\",\"Award?\"]].values\n",
        "# Transform the data\n",
        "Airlines2_transformed = power_transform(Airlines2, method='yeo-johnson')"
      ],
      "execution_count": 12,
      "outputs": [
        {
          "output_type": "stream",
          "name": "stderr",
          "text": [
            "/usr/local/lib/python3.7/dist-packages/sklearn/preprocessing/_data.py:2982: RuntimeWarning: divide by zero encountered in log\n",
            "  loglike = -n_samples / 2 * np.log(x_trans.var())\n"
          ]
        }
      ]
    },
    {
      "cell_type": "code",
      "metadata": {
        "id": "cq1u06dYBvX2",
        "colab": {
          "base_uri": "https://localhost:8080/",
          "height": 419
        },
        "outputId": "41561df9-4f57-4b17-dc91-c9116414c67b"
      },
      "source": [
        "Airlines2=pd.DataFrame(Airlines2_transformed,columns=[\"Balance\",\"Qual_miles\",\"cc1_miles\",\"cc2_miles\",\"cc3_miles\",\"Bonus_miles\",\"Bonus_trans\",\"Flight_miles_12mo\",\"Flight_trans_12\",\"Days_since_enroll\",\"Award?\"]) \n",
        "Airlines2"
      ],
      "execution_count": 13,
      "outputs": [
        {
          "output_type": "execute_result",
          "data": {
            "text/html": [
              "<div>\n",
              "<style scoped>\n",
              "    .dataframe tbody tr th:only-of-type {\n",
              "        vertical-align: middle;\n",
              "    }\n",
              "\n",
              "    .dataframe tbody tr th {\n",
              "        vertical-align: top;\n",
              "    }\n",
              "\n",
              "    .dataframe thead th {\n",
              "        text-align: right;\n",
              "    }\n",
              "</style>\n",
              "<table border=\"1\" class=\"dataframe\">\n",
              "  <thead>\n",
              "    <tr style=\"text-align: right;\">\n",
              "      <th></th>\n",
              "      <th>Balance</th>\n",
              "      <th>Qual_miles</th>\n",
              "      <th>cc1_miles</th>\n",
              "      <th>cc2_miles</th>\n",
              "      <th>cc3_miles</th>\n",
              "      <th>Bonus_miles</th>\n",
              "      <th>Bonus_trans</th>\n",
              "      <th>Flight_miles_12mo</th>\n",
              "      <th>Flight_trans_12</th>\n",
              "      <th>Days_since_enroll</th>\n",
              "      <th>Award?</th>\n",
              "    </tr>\n",
              "  </thead>\n",
              "  <tbody>\n",
              "    <tr>\n",
              "      <th>0</th>\n",
              "      <td>-0.346816</td>\n",
              "      <td>-0.244743</td>\n",
              "      <td>-0.844766</td>\n",
              "      <td>0.0</td>\n",
              "      <td>0.0</td>\n",
              "      <td>-1.178402</td>\n",
              "      <td>-1.329671</td>\n",
              "      <td>-0.683308</td>\n",
              "      <td>-0.674970</td>\n",
              "      <td>1.321776</td>\n",
              "      <td>-0.766919</td>\n",
              "    </tr>\n",
              "    <tr>\n",
              "      <th>1</th>\n",
              "      <td>-0.633084</td>\n",
              "      <td>-0.244743</td>\n",
              "      <td>-0.844766</td>\n",
              "      <td>0.0</td>\n",
              "      <td>0.0</td>\n",
              "      <td>-1.132416</td>\n",
              "      <td>-1.074960</td>\n",
              "      <td>-0.683308</td>\n",
              "      <td>-0.674970</td>\n",
              "      <td>1.308873</td>\n",
              "      <td>-0.766919</td>\n",
              "    </tr>\n",
              "    <tr>\n",
              "      <th>2</th>\n",
              "      <td>-0.038549</td>\n",
              "      <td>-0.244743</td>\n",
              "      <td>-0.844766</td>\n",
              "      <td>0.0</td>\n",
              "      <td>0.0</td>\n",
              "      <td>-0.191941</td>\n",
              "      <td>-0.688822</td>\n",
              "      <td>-0.683308</td>\n",
              "      <td>-0.674970</td>\n",
              "      <td>1.335468</td>\n",
              "      <td>-0.766919</td>\n",
              "    </tr>\n",
              "    <tr>\n",
              "      <th>3</th>\n",
              "      <td>-0.821989</td>\n",
              "      <td>-0.244743</td>\n",
              "      <td>-0.844766</td>\n",
              "      <td>0.0</td>\n",
              "      <td>0.0</td>\n",
              "      <td>-0.924946</td>\n",
              "      <td>-1.329671</td>\n",
              "      <td>-0.683308</td>\n",
              "      <td>-0.674970</td>\n",
              "      <td>1.302415</td>\n",
              "      <td>-0.766919</td>\n",
              "    </tr>\n",
              "    <tr>\n",
              "      <th>4</th>\n",
              "      <td>0.723596</td>\n",
              "      <td>-0.244743</td>\n",
              "      <td>1.343165</td>\n",
              "      <td>0.0</td>\n",
              "      <td>0.0</td>\n",
              "      <td>1.169363</td>\n",
              "      <td>1.329711</td>\n",
              "      <td>1.549026</td>\n",
              "      <td>1.685925</td>\n",
              "      <td>1.295549</td>\n",
              "      <td>1.303918</td>\n",
              "    </tr>\n",
              "    <tr>\n",
              "      <th>...</th>\n",
              "      <td>...</td>\n",
              "      <td>...</td>\n",
              "      <td>...</td>\n",
              "      <td>...</td>\n",
              "      <td>...</td>\n",
              "      <td>...</td>\n",
              "      <td>...</td>\n",
              "      <td>...</td>\n",
              "      <td>...</td>\n",
              "      <td>...</td>\n",
              "      <td>...</td>\n",
              "    </tr>\n",
              "    <tr>\n",
              "      <th>3994</th>\n",
              "      <td>-0.662730</td>\n",
              "      <td>-0.244743</td>\n",
              "      <td>-0.844766</td>\n",
              "      <td>0.0</td>\n",
              "      <td>0.0</td>\n",
              "      <td>0.153811</td>\n",
              "      <td>-0.688822</td>\n",
              "      <td>1.346970</td>\n",
              "      <td>1.081077</td>\n",
              "      <td>-1.364712</td>\n",
              "      <td>1.303918</td>\n",
              "    </tr>\n",
              "    <tr>\n",
              "      <th>3995</th>\n",
              "      <td>0.340486</td>\n",
              "      <td>-0.244743</td>\n",
              "      <td>-0.844766</td>\n",
              "      <td>0.0</td>\n",
              "      <td>0.0</td>\n",
              "      <td>-0.727886</td>\n",
              "      <td>-0.530613</td>\n",
              "      <td>-0.683308</td>\n",
              "      <td>-0.674970</td>\n",
              "      <td>-1.369774</td>\n",
              "      <td>1.303918</td>\n",
              "    </tr>\n",
              "    <tr>\n",
              "      <th>3996</th>\n",
              "      <td>0.460388</td>\n",
              "      <td>-0.244743</td>\n",
              "      <td>1.058591</td>\n",
              "      <td>0.0</td>\n",
              "      <td>0.0</td>\n",
              "      <td>0.795077</td>\n",
              "      <td>-0.134235</td>\n",
              "      <td>-0.683308</td>\n",
              "      <td>-0.674970</td>\n",
              "      <td>-1.365345</td>\n",
              "      <td>1.303918</td>\n",
              "    </tr>\n",
              "    <tr>\n",
              "      <th>3997</th>\n",
              "      <td>0.200904</td>\n",
              "      <td>-0.244743</td>\n",
              "      <td>-0.844766</td>\n",
              "      <td>0.0</td>\n",
              "      <td>0.0</td>\n",
              "      <td>-0.924946</td>\n",
              "      <td>-1.329671</td>\n",
              "      <td>1.446453</td>\n",
              "      <td>1.081077</td>\n",
              "      <td>-1.365977</td>\n",
              "      <td>-0.766919</td>\n",
              "    </tr>\n",
              "    <tr>\n",
              "      <th>3998</th>\n",
              "      <td>-1.803321</td>\n",
              "      <td>-0.244743</td>\n",
              "      <td>-0.844766</td>\n",
              "      <td>0.0</td>\n",
              "      <td>0.0</td>\n",
              "      <td>-1.826245</td>\n",
              "      <td>-1.679465</td>\n",
              "      <td>-0.683308</td>\n",
              "      <td>-0.674970</td>\n",
              "      <td>-1.367875</td>\n",
              "      <td>-0.766919</td>\n",
              "    </tr>\n",
              "  </tbody>\n",
              "</table>\n",
              "<p>3999 rows × 11 columns</p>\n",
              "</div>"
            ],
            "text/plain": [
              "       Balance  Qual_miles  ...  Days_since_enroll    Award?\n",
              "0    -0.346816   -0.244743  ...           1.321776 -0.766919\n",
              "1    -0.633084   -0.244743  ...           1.308873 -0.766919\n",
              "2    -0.038549   -0.244743  ...           1.335468 -0.766919\n",
              "3    -0.821989   -0.244743  ...           1.302415 -0.766919\n",
              "4     0.723596   -0.244743  ...           1.295549  1.303918\n",
              "...        ...         ...  ...                ...       ...\n",
              "3994 -0.662730   -0.244743  ...          -1.364712  1.303918\n",
              "3995  0.340486   -0.244743  ...          -1.369774  1.303918\n",
              "3996  0.460388   -0.244743  ...          -1.365345  1.303918\n",
              "3997  0.200904   -0.244743  ...          -1.365977 -0.766919\n",
              "3998 -1.803321   -0.244743  ...          -1.367875 -0.766919\n",
              "\n",
              "[3999 rows x 11 columns]"
            ]
          },
          "metadata": {},
          "execution_count": 13
        }
      ]
    },
    {
      "cell_type": "markdown",
      "metadata": {
        "id": "JL_5gjOyBvX3"
      },
      "source": [
        "## After the transformation we will see the distribution of the data"
      ]
    },
    {
      "cell_type": "code",
      "metadata": {
        "id": "9mfgAnTBBvX3",
        "colab": {
          "base_uri": "https://localhost:8080/",
          "height": 975
        },
        "outputId": "1d563afe-4264-4fc6-d8fd-3c9d56a85b60"
      },
      "source": [
        "fig, ax = plt.subplots(4, 3, figsize=(15,7))\n",
        "sns.distplot(Airlines2.Balance, ax=ax[0,0])\n",
        "sns.distplot(Airlines2.Qual_miles, ax=ax[0,1])\n",
        "sns.distplot(Airlines2.cc1_miles, ax=ax[0,2])\n",
        "sns.distplot(Airlines2.cc2_miles, ax=ax[1,0])\n",
        "sns.distplot(Airlines2.cc3_miles, ax=ax[1,1])\n",
        "sns.distplot(Airlines2.Bonus_miles, ax=ax[1,2])\n",
        "sns.distplot(Airlines2.Bonus_trans, ax=ax[2,0])\n",
        "sns.distplot(Airlines2.Flight_miles_12mo, ax=ax[2,1])\n",
        "sns.distplot(Airlines2.Flight_trans_12, ax=ax[2,2])\n",
        "sns.distplot(Airlines2.Days_since_enroll, ax=ax[3,0])\n",
        "sns.distplot(Airlines2[\"Award?\"] , ax=ax[3,1])\n",
        "plt.tight_layout()\n",
        "plt.show()"
      ],
      "execution_count": 14,
      "outputs": [
        {
          "output_type": "stream",
          "name": "stderr",
          "text": [
            "/usr/local/lib/python3.7/dist-packages/seaborn/distributions.py:2557: FutureWarning: `distplot` is a deprecated function and will be removed in a future version. Please adapt your code to use either `displot` (a figure-level function with similar flexibility) or `histplot` (an axes-level function for histograms).\n",
            "  warnings.warn(msg, FutureWarning)\n",
            "/usr/local/lib/python3.7/dist-packages/seaborn/distributions.py:2557: FutureWarning: `distplot` is a deprecated function and will be removed in a future version. Please adapt your code to use either `displot` (a figure-level function with similar flexibility) or `histplot` (an axes-level function for histograms).\n",
            "  warnings.warn(msg, FutureWarning)\n",
            "/usr/local/lib/python3.7/dist-packages/seaborn/distributions.py:2557: FutureWarning: `distplot` is a deprecated function and will be removed in a future version. Please adapt your code to use either `displot` (a figure-level function with similar flexibility) or `histplot` (an axes-level function for histograms).\n",
            "  warnings.warn(msg, FutureWarning)\n",
            "/usr/local/lib/python3.7/dist-packages/seaborn/distributions.py:2557: FutureWarning: `distplot` is a deprecated function and will be removed in a future version. Please adapt your code to use either `displot` (a figure-level function with similar flexibility) or `histplot` (an axes-level function for histograms).\n",
            "  warnings.warn(msg, FutureWarning)\n",
            "/usr/local/lib/python3.7/dist-packages/seaborn/distributions.py:306: UserWarning: Dataset has 0 variance; skipping density estimate.\n",
            "  warnings.warn(msg, UserWarning)\n",
            "/usr/local/lib/python3.7/dist-packages/seaborn/distributions.py:2557: FutureWarning: `distplot` is a deprecated function and will be removed in a future version. Please adapt your code to use either `displot` (a figure-level function with similar flexibility) or `histplot` (an axes-level function for histograms).\n",
            "  warnings.warn(msg, FutureWarning)\n",
            "/usr/local/lib/python3.7/dist-packages/seaborn/distributions.py:306: UserWarning: Dataset has 0 variance; skipping density estimate.\n",
            "  warnings.warn(msg, UserWarning)\n",
            "/usr/local/lib/python3.7/dist-packages/seaborn/distributions.py:2557: FutureWarning: `distplot` is a deprecated function and will be removed in a future version. Please adapt your code to use either `displot` (a figure-level function with similar flexibility) or `histplot` (an axes-level function for histograms).\n",
            "  warnings.warn(msg, FutureWarning)\n",
            "/usr/local/lib/python3.7/dist-packages/seaborn/distributions.py:2557: FutureWarning: `distplot` is a deprecated function and will be removed in a future version. Please adapt your code to use either `displot` (a figure-level function with similar flexibility) or `histplot` (an axes-level function for histograms).\n",
            "  warnings.warn(msg, FutureWarning)\n",
            "/usr/local/lib/python3.7/dist-packages/seaborn/distributions.py:2557: FutureWarning: `distplot` is a deprecated function and will be removed in a future version. Please adapt your code to use either `displot` (a figure-level function with similar flexibility) or `histplot` (an axes-level function for histograms).\n",
            "  warnings.warn(msg, FutureWarning)\n",
            "/usr/local/lib/python3.7/dist-packages/seaborn/distributions.py:2557: FutureWarning: `distplot` is a deprecated function and will be removed in a future version. Please adapt your code to use either `displot` (a figure-level function with similar flexibility) or `histplot` (an axes-level function for histograms).\n",
            "  warnings.warn(msg, FutureWarning)\n",
            "/usr/local/lib/python3.7/dist-packages/seaborn/distributions.py:2557: FutureWarning: `distplot` is a deprecated function and will be removed in a future version. Please adapt your code to use either `displot` (a figure-level function with similar flexibility) or `histplot` (an axes-level function for histograms).\n",
            "  warnings.warn(msg, FutureWarning)\n",
            "/usr/local/lib/python3.7/dist-packages/seaborn/distributions.py:2557: FutureWarning: `distplot` is a deprecated function and will be removed in a future version. Please adapt your code to use either `displot` (a figure-level function with similar flexibility) or `histplot` (an axes-level function for histograms).\n",
            "  warnings.warn(msg, FutureWarning)\n"
          ]
        },
        {
          "output_type": "display_data",
          "data": {
            "image/png": "[encoded data removed]",
            "text/plain": [
              "<Figure size 1080x504 with 12 Axes>"
            ]
          },
          "metadata": {
            "needs_background": "light"
          }
        }
      ]
    },
    {
      "cell_type": "markdown",
      "metadata": {
        "id": "qTcy5p1QBvX4"
      },
      "source": [
        "# Cluster formation using hierarchical clustering\n",
        "### Applying average linkage method"
      ]
    },
    {
      "cell_type": "code",
      "metadata": {
        "id": "XTo5gBxBBvX4",
        "colab": {
          "base_uri": "https://localhost:8080/",
          "height": 629
        },
        "outputId": "e2d5439f-3f99-4818-ee6e-cccf1db9e2e0"
      },
      "source": [
        "fig=plt.figure(figsize=(16,10))\n",
        "dendrogram = sch.dendrogram(sch.linkage(Airlines2_transformed, method='average'))\n",
        "plt.title(\"Dendogram\",size=15)"
      ],
      "execution_count": 15,
      "outputs": [
        {
          "output_type": "execute_result",
          "data": {
            "text/plain": [
              "Text(0.5, 1.0, 'Dendogram')"
            ]
          },
          "metadata": {},
          "execution_count": 15
        },
        {
          "output_type": "display_data",
          "data": {
            "image/png": "[encoded data removed]",
            "text/plain": [
              "<Figure size 1152x720 with 1 Axes>"
            ]
          },
          "metadata": {
            "needs_background": "light"
          }
        }
      ]
    },
    {
      "cell_type": "markdown",
      "metadata": {
        "id": "WEq24DT9BvX5"
      },
      "source": [
        "#### Create Cluster"
      ]
    },
    {
      "cell_type": "code",
      "metadata": {
        "id": "eVHcBof2BvX5"
      },
      "source": [
        "hc1 = AgglomerativeClustering(n_clusters=5, affinity = 'euclidean', linkage = 'average')"
      ],
      "execution_count": 16,
      "outputs": []
    },
    {
      "cell_type": "code",
      "metadata": {
        "id": "aIPP93CCBvX6"
      },
      "source": [
        "y_hc1 = hc1.fit_predict(Airlines2_transformed)\n",
        "Clusters=pd.DataFrame(y_hc1,columns=['Clusters'])"
      ],
      "execution_count": 17,
      "outputs": []
    },
    {
      "cell_type": "code",
      "metadata": {
        "id": "lgbXZ8JgBvX6"
      },
      "source": [
        "Airlines['cluster'] = y_hc1"
      ],
      "execution_count": 18,
      "outputs": []
    },
    {
      "cell_type": "code",
      "metadata": {
        "id": "Qq0mCUuCBvX7",
        "colab": {
          "base_uri": "https://localhost:8080/",
          "height": 255
        },
        "outputId": "84e700a3-56dc-454d-b623-8c16728915f8"
      },
      "source": [
        "Airlines.groupby('cluster').agg(['mean']).reset_index()"
      ],
      "execution_count": 19,
      "outputs": [
        {
          "output_type": "execute_result",
          "data": {
            "text/html": [
              "<div>\n",
              "<style scoped>\n",
              "    .dataframe tbody tr th:only-of-type {\n",
              "        vertical-align: middle;\n",
              "    }\n",
              "\n",
              "    .dataframe tbody tr th {\n",
              "        vertical-align: top;\n",
              "    }\n",
              "\n",
              "    .dataframe thead tr th {\n",
              "        text-align: left;\n",
              "    }\n",
              "</style>\n",
              "<table border=\"1\" class=\"dataframe\">\n",
              "  <thead>\n",
              "    <tr>\n",
              "      <th></th>\n",
              "      <th>cluster</th>\n",
              "      <th>ID#</th>\n",
              "      <th>Balance</th>\n",
              "      <th>Qual_miles</th>\n",
              "      <th>cc1_miles</th>\n",
              "      <th>cc2_miles</th>\n",
              "      <th>cc3_miles</th>\n",
              "      <th>Bonus_miles</th>\n",
              "      <th>Bonus_trans</th>\n",
              "      <th>Flight_miles_12mo</th>\n",
              "      <th>Flight_trans_12</th>\n",
              "      <th>Days_since_enroll</th>\n",
              "      <th>Award?</th>\n",
              "    </tr>\n",
              "    <tr>\n",
              "      <th></th>\n",
              "      <th></th>\n",
              "      <th>mean</th>\n",
              "      <th>mean</th>\n",
              "      <th>mean</th>\n",
              "      <th>mean</th>\n",
              "      <th>mean</th>\n",
              "      <th>mean</th>\n",
              "      <th>mean</th>\n",
              "      <th>mean</th>\n",
              "      <th>mean</th>\n",
              "      <th>mean</th>\n",
              "      <th>mean</th>\n",
              "      <th>mean</th>\n",
              "    </tr>\n",
              "  </thead>\n",
              "  <tbody>\n",
              "    <tr>\n",
              "      <th>0</th>\n",
              "      <td>0</td>\n",
              "      <td>1799.350993</td>\n",
              "      <td>170339.198675</td>\n",
              "      <td>2508.019868</td>\n",
              "      <td>2.278146</td>\n",
              "      <td>1.013245</td>\n",
              "      <td>1.013245</td>\n",
              "      <td>28717.337748</td>\n",
              "      <td>18.344371</td>\n",
              "      <td>2574.390728</td>\n",
              "      <td>7.768212</td>\n",
              "      <td>4478.728477</td>\n",
              "      <td>0.768212</td>\n",
              "    </tr>\n",
              "    <tr>\n",
              "      <th>1</th>\n",
              "      <td>1</td>\n",
              "      <td>1891.090828</td>\n",
              "      <td>104075.087266</td>\n",
              "      <td>0.000000</td>\n",
              "      <td>2.290294</td>\n",
              "      <td>1.017809</td>\n",
              "      <td>1.016919</td>\n",
              "      <td>23897.578807</td>\n",
              "      <td>15.159394</td>\n",
              "      <td>1291.878896</td>\n",
              "      <td>3.845058</td>\n",
              "      <td>4368.430098</td>\n",
              "      <td>0.547640</td>\n",
              "    </tr>\n",
              "    <tr>\n",
              "      <th>2</th>\n",
              "      <td>2</td>\n",
              "      <td>1425.000000</td>\n",
              "      <td>125.000000</td>\n",
              "      <td>0.000000</td>\n",
              "      <td>1.000000</td>\n",
              "      <td>1.000000</td>\n",
              "      <td>1.000000</td>\n",
              "      <td>125.000000</td>\n",
              "      <td>1.000000</td>\n",
              "      <td>125.000000</td>\n",
              "      <td>1.000000</td>\n",
              "      <td>5163.500000</td>\n",
              "      <td>0.000000</td>\n",
              "    </tr>\n",
              "    <tr>\n",
              "      <th>3</th>\n",
              "      <td>3</td>\n",
              "      <td>2028.933333</td>\n",
              "      <td>57973.546667</td>\n",
              "      <td>2634.706667</td>\n",
              "      <td>2.000000</td>\n",
              "      <td>1.000000</td>\n",
              "      <td>1.000000</td>\n",
              "      <td>15002.626667</td>\n",
              "      <td>10.026667</td>\n",
              "      <td>0.000000</td>\n",
              "      <td>0.000000</td>\n",
              "      <td>4111.026667</td>\n",
              "      <td>0.400000</td>\n",
              "    </tr>\n",
              "    <tr>\n",
              "      <th>4</th>\n",
              "      <td>4</td>\n",
              "      <td>2079.624622</td>\n",
              "      <td>55659.328172</td>\n",
              "      <td>0.000000</td>\n",
              "      <td>1.951662</td>\n",
              "      <td>1.013595</td>\n",
              "      <td>1.010574</td>\n",
              "      <td>13694.672961</td>\n",
              "      <td>9.761329</td>\n",
              "      <td>0.000000</td>\n",
              "      <td>0.000000</td>\n",
              "      <td>3991.476586</td>\n",
              "      <td>0.271903</td>\n",
              "    </tr>\n",
              "  </tbody>\n",
              "</table>\n",
              "</div>"
            ],
            "text/plain": [
              "  cluster          ID#  ... Days_since_enroll    Award?\n",
              "                  mean  ...              mean      mean\n",
              "0       0  1799.350993  ...       4478.728477  0.768212\n",
              "1       1  1891.090828  ...       4368.430098  0.547640\n",
              "2       2  1425.000000  ...       5163.500000  0.000000\n",
              "3       3  2028.933333  ...       4111.026667  0.400000\n",
              "4       4  2079.624622  ...       3991.476586  0.271903\n",
              "\n",
              "[5 rows x 13 columns]"
            ]
          },
          "metadata": {},
          "execution_count": 19
        }
      ]
    },
    {
      "cell_type": "code",
      "metadata": {
        "id": "q6ZwajzrBvX7",
        "colab": {
          "base_uri": "https://localhost:8080/"
        },
        "outputId": "3acfaea4-5916-4eb5-df2c-feda3964b4da"
      },
      "source": [
        "for i in range(5):\n",
        "    print(\"cluster\", i)\n",
        "   # print(\"The Members:\",(list(airlines[airlines['cluster'] == i]['ID#'].values)))\n",
        "    print(\"Total Members:\", len(list(Airlines[Airlines['cluster'] == i]['ID#'].values)))\n",
        "    print()"
      ],
      "execution_count": 20,
      "outputs": [
        {
          "output_type": "stream",
          "name": "stdout",
          "text": [
            "cluster 0\n",
            "Total Members: 151\n",
            "\n",
            "cluster 1\n",
            "Total Members: 1123\n",
            "\n",
            "cluster 2\n",
            "Total Members: 2\n",
            "\n",
            "cluster 3\n",
            "Total Members: 75\n",
            "\n",
            "cluster 4\n",
            "Total Members: 2648\n",
            "\n"
          ]
        }
      ]
    },
    {
      "cell_type": "markdown",
      "metadata": {
        "id": "xgYh5M-qBvX8"
      },
      "source": [
        "### Applying centroid(ward) linkage method"
      ]
    },
    {
      "cell_type": "code",
      "metadata": {
        "id": "iCIydZz6BvX9",
        "colab": {
          "base_uri": "https://localhost:8080/",
          "height": 629
        },
        "outputId": "3a33adb9-a0fb-4b58-d7cd-dd32aa8dbc03"
      },
      "source": [
        "fig=plt.figure(figsize=(16,10))\n",
        "dendrogram = sch.dendrogram(sch.linkage(Airlines2_transformed, method='ward'))\n",
        "plt.title(\"Dendogram\",size=15)"
      ],
      "execution_count": 21,
      "outputs": [
        {
          "output_type": "execute_result",
          "data": {
            "text/plain": [
              "Text(0.5, 1.0, 'Dendogram')"
            ]
          },
          "metadata": {},
          "execution_count": 21
        },
        {
          "output_type": "display_data",
          "data": {
            "image/png": "[encoded data removed]",
            "text/plain": [
              "<Figure size 1152x720 with 1 Axes>"
            ]
          },
          "metadata": {
            "needs_background": "light"
          }
        }
      ]
    },
    {
      "cell_type": "markdown",
      "metadata": {
        "id": "zEuq7AyuBvX9"
      },
      "source": [
        "### Create Cluster"
      ]
    },
    {
      "cell_type": "code",
      "metadata": {
        "id": "n-rUe8yyBvX-"
      },
      "source": [
        "hc2 = AgglomerativeClustering(n_clusters=5, affinity = 'euclidean', linkage = 'ward')"
      ],
      "execution_count": 22,
      "outputs": []
    },
    {
      "cell_type": "code",
      "metadata": {
        "id": "mFWODH2UBvX-"
      },
      "source": [
        "y_hc2 = hc2.fit_predict(Airlines2_transformed)\n",
        "Clusters=pd.DataFrame(y_hc2,columns=['Clusters'])"
      ],
      "execution_count": 23,
      "outputs": []
    },
    {
      "cell_type": "code",
      "metadata": {
        "id": "b-XoJCDvBvX-"
      },
      "source": [
        "Airlines['cluster'] = y_hc2"
      ],
      "execution_count": 24,
      "outputs": []
    },
    {
      "cell_type": "code",
      "metadata": {
        "id": "2azUrnNDBvX_",
        "colab": {
          "base_uri": "https://localhost:8080/",
          "height": 255
        },
        "outputId": "50c87404-8bad-4731-9d3f-56daef42a947"
      },
      "source": [
        "Airlines.groupby('cluster').agg(['mean']).reset_index()"
      ],
      "execution_count": 25,
      "outputs": [
        {
          "output_type": "execute_result",
          "data": {
            "text/html": [
              "<div>\n",
              "<style scoped>\n",
              "    .dataframe tbody tr th:only-of-type {\n",
              "        vertical-align: middle;\n",
              "    }\n",
              "\n",
              "    .dataframe tbody tr th {\n",
              "        vertical-align: top;\n",
              "    }\n",
              "\n",
              "    .dataframe thead tr th {\n",
              "        text-align: left;\n",
              "    }\n",
              "</style>\n",
              "<table border=\"1\" class=\"dataframe\">\n",
              "  <thead>\n",
              "    <tr>\n",
              "      <th></th>\n",
              "      <th>cluster</th>\n",
              "      <th>ID#</th>\n",
              "      <th>Balance</th>\n",
              "      <th>Qual_miles</th>\n",
              "      <th>cc1_miles</th>\n",
              "      <th>cc2_miles</th>\n",
              "      <th>cc3_miles</th>\n",
              "      <th>Bonus_miles</th>\n",
              "      <th>Bonus_trans</th>\n",
              "      <th>Flight_miles_12mo</th>\n",
              "      <th>Flight_trans_12</th>\n",
              "      <th>Days_since_enroll</th>\n",
              "      <th>Award?</th>\n",
              "    </tr>\n",
              "    <tr>\n",
              "      <th></th>\n",
              "      <th></th>\n",
              "      <th>mean</th>\n",
              "      <th>mean</th>\n",
              "      <th>mean</th>\n",
              "      <th>mean</th>\n",
              "      <th>mean</th>\n",
              "      <th>mean</th>\n",
              "      <th>mean</th>\n",
              "      <th>mean</th>\n",
              "      <th>mean</th>\n",
              "      <th>mean</th>\n",
              "      <th>mean</th>\n",
              "      <th>mean</th>\n",
              "    </tr>\n",
              "  </thead>\n",
              "  <tbody>\n",
              "    <tr>\n",
              "      <th>0</th>\n",
              "      <td>0</td>\n",
              "      <td>2270.985322</td>\n",
              "      <td>33419.559030</td>\n",
              "      <td>0.000000</td>\n",
              "      <td>1.000000</td>\n",
              "      <td>1.022336</td>\n",
              "      <td>1.005105</td>\n",
              "      <td>2837.693044</td>\n",
              "      <td>5.463944</td>\n",
              "      <td>0.000000</td>\n",
              "      <td>0.000000</td>\n",
              "      <td>3631.267390</td>\n",
              "      <td>0.151883</td>\n",
              "    </tr>\n",
              "    <tr>\n",
              "      <th>1</th>\n",
              "      <td>1</td>\n",
              "      <td>2113.270270</td>\n",
              "      <td>77788.952703</td>\n",
              "      <td>0.000000</td>\n",
              "      <td>1.000000</td>\n",
              "      <td>1.030405</td>\n",
              "      <td>1.000000</td>\n",
              "      <td>6038.932432</td>\n",
              "      <td>8.885135</td>\n",
              "      <td>1403.608108</td>\n",
              "      <td>4.155405</td>\n",
              "      <td>3981.564189</td>\n",
              "      <td>0.429054</td>\n",
              "    </tr>\n",
              "    <tr>\n",
              "      <th>2</th>\n",
              "      <td>2</td>\n",
              "      <td>1802.231267</td>\n",
              "      <td>87897.735430</td>\n",
              "      <td>0.000000</td>\n",
              "      <td>3.331175</td>\n",
              "      <td>1.000925</td>\n",
              "      <td>1.018501</td>\n",
              "      <td>29432.774283</td>\n",
              "      <td>15.990749</td>\n",
              "      <td>0.000000</td>\n",
              "      <td>0.000000</td>\n",
              "      <td>4513.629972</td>\n",
              "      <td>0.445883</td>\n",
              "    </tr>\n",
              "    <tr>\n",
              "      <th>3</th>\n",
              "      <td>3</td>\n",
              "      <td>1875.539823</td>\n",
              "      <td>133049.712389</td>\n",
              "      <td>2550.061947</td>\n",
              "      <td>2.185841</td>\n",
              "      <td>1.008850</td>\n",
              "      <td>1.008850</td>\n",
              "      <td>24165.995575</td>\n",
              "      <td>15.584071</td>\n",
              "      <td>1720.057522</td>\n",
              "      <td>5.190265</td>\n",
              "      <td>4356.703540</td>\n",
              "      <td>0.646018</td>\n",
              "    </tr>\n",
              "    <tr>\n",
              "      <th>4</th>\n",
              "      <td>4</td>\n",
              "      <td>1642.568480</td>\n",
              "      <td>132880.887430</td>\n",
              "      <td>0.000000</td>\n",
              "      <td>3.718574</td>\n",
              "      <td>1.003752</td>\n",
              "      <td>1.035647</td>\n",
              "      <td>43643.870544</td>\n",
              "      <td>22.075047</td>\n",
              "      <td>1163.403377</td>\n",
              "      <td>3.489681</td>\n",
              "      <td>4801.103189</td>\n",
              "      <td>0.677298</td>\n",
              "    </tr>\n",
              "  </tbody>\n",
              "</table>\n",
              "</div>"
            ],
            "text/plain": [
              "  cluster          ID#  ... Days_since_enroll    Award?\n",
              "                  mean  ...              mean      mean\n",
              "0       0  2270.985322  ...       3631.267390  0.151883\n",
              "1       1  2113.270270  ...       3981.564189  0.429054\n",
              "2       2  1802.231267  ...       4513.629972  0.445883\n",
              "3       3  1875.539823  ...       4356.703540  0.646018\n",
              "4       4  1642.568480  ...       4801.103189  0.677298\n",
              "\n",
              "[5 rows x 13 columns]"
            ]
          },
          "metadata": {},
          "execution_count": 25
        }
      ]
    },
    {
      "cell_type": "code",
      "metadata": {
        "id": "y6ATA4FtBvX_",
        "colab": {
          "base_uri": "https://localhost:8080/"
        },
        "outputId": "2c4e86a6-3e0f-41cd-bfde-314fb6b69103"
      },
      "source": [
        "for i in range(5):\n",
        "    print(\"cluster\", i)\n",
        "   # print(\"The Members:\",(list(airlines[airlines['cluster'] == i]['ID#'].values)))\n",
        "    print(\"Total Members:\", len(list(Airlines[Airlines['cluster'] == i]['ID#'].values)))\n",
        "    print()"
      ],
      "execution_count": 26,
      "outputs": [
        {
          "output_type": "stream",
          "name": "stdout",
          "text": [
            "cluster 0\n",
            "Total Members: 1567\n",
            "\n",
            "cluster 1\n",
            "Total Members: 592\n",
            "\n",
            "cluster 2\n",
            "Total Members: 1081\n",
            "\n",
            "cluster 3\n",
            "Total Members: 226\n",
            "\n",
            "cluster 4\n",
            "Total Members: 533\n",
            "\n"
          ]
        }
      ]
    },
    {
      "cell_type": "markdown",
      "metadata": {
        "id": "BhUPket1BvYA"
      },
      "source": [
        "### Applying complete linkage method"
      ]
    },
    {
      "cell_type": "code",
      "metadata": {
        "id": "anZJ8k-WBvYB",
        "colab": {
          "base_uri": "https://localhost:8080/",
          "height": 629
        },
        "outputId": "a511b875-8ea8-46b7-e790-4376030ea7a5"
      },
      "source": [
        "fig=plt.figure(figsize=(16,10))\n",
        "dendrogram = sch.dendrogram(sch.linkage(Airlines2_transformed, method='complete'))\n",
        "plt.title(\"Dendogram\",size=15)"
      ],
      "execution_count": 27,
      "outputs": [
        {
          "output_type": "execute_result",
          "data": {
            "text/plain": [
              "Text(0.5, 1.0, 'Dendogram')"
            ]
          },
          "metadata": {},
          "execution_count": 27
        },
        {
          "output_type": "display_data",
          "data": {
            "image/png": "[encoded data removed]",
            "text/plain": [
              "<Figure size 1152x720 with 1 Axes>"
            ]
          },
          "metadata": {
            "needs_background": "light"
          }
        }
      ]
    },
    {
      "cell_type": "markdown",
      "metadata": {
        "id": "pS0QaTWWBvYB"
      },
      "source": [
        "### Create Cluster"
      ]
    },
    {
      "cell_type": "code",
      "metadata": {
        "id": "zcYHlRfIBvYC"
      },
      "source": [
        "hc3 = AgglomerativeClustering(n_clusters=5, affinity = 'euclidean', linkage = 'complete')"
      ],
      "execution_count": 28,
      "outputs": []
    },
    {
      "cell_type": "code",
      "metadata": {
        "id": "bgadsN4ABvYC"
      },
      "source": [
        "y_hc3 = hc3.fit_predict(Airlines2_transformed)\n",
        "Clusters=pd.DataFrame(y_hc3,columns=['Clusters'])"
      ],
      "execution_count": 29,
      "outputs": []
    },
    {
      "cell_type": "code",
      "metadata": {
        "id": "T_5ggXeABvYD"
      },
      "source": [
        "Airlines['cluster'] = y_hc3"
      ],
      "execution_count": 30,
      "outputs": []
    },
    {
      "cell_type": "code",
      "metadata": {
        "id": "ZqVTSwlRBvYE",
        "colab": {
          "base_uri": "https://localhost:8080/",
          "height": 255
        },
        "outputId": "a77df514-866a-4e42-c211-48303b61b375"
      },
      "source": [
        "Airlines.groupby('cluster').agg(['mean']).reset_index()"
      ],
      "execution_count": 31,
      "outputs": [
        {
          "output_type": "execute_result",
          "data": {
            "text/html": [
              "<div>\n",
              "<style scoped>\n",
              "    .dataframe tbody tr th:only-of-type {\n",
              "        vertical-align: middle;\n",
              "    }\n",
              "\n",
              "    .dataframe tbody tr th {\n",
              "        vertical-align: top;\n",
              "    }\n",
              "\n",
              "    .dataframe thead tr th {\n",
              "        text-align: left;\n",
              "    }\n",
              "</style>\n",
              "<table border=\"1\" class=\"dataframe\">\n",
              "  <thead>\n",
              "    <tr>\n",
              "      <th></th>\n",
              "      <th>cluster</th>\n",
              "      <th>ID#</th>\n",
              "      <th>Balance</th>\n",
              "      <th>Qual_miles</th>\n",
              "      <th>cc1_miles</th>\n",
              "      <th>cc2_miles</th>\n",
              "      <th>cc3_miles</th>\n",
              "      <th>Bonus_miles</th>\n",
              "      <th>Bonus_trans</th>\n",
              "      <th>Flight_miles_12mo</th>\n",
              "      <th>Flight_trans_12</th>\n",
              "      <th>Days_since_enroll</th>\n",
              "      <th>Award?</th>\n",
              "    </tr>\n",
              "    <tr>\n",
              "      <th></th>\n",
              "      <th></th>\n",
              "      <th>mean</th>\n",
              "      <th>mean</th>\n",
              "      <th>mean</th>\n",
              "      <th>mean</th>\n",
              "      <th>mean</th>\n",
              "      <th>mean</th>\n",
              "      <th>mean</th>\n",
              "      <th>mean</th>\n",
              "      <th>mean</th>\n",
              "      <th>mean</th>\n",
              "      <th>mean</th>\n",
              "      <th>mean</th>\n",
              "    </tr>\n",
              "  </thead>\n",
              "  <tbody>\n",
              "    <tr>\n",
              "      <th>0</th>\n",
              "      <td>0</td>\n",
              "      <td>1475.911404</td>\n",
              "      <td>145838.029218</td>\n",
              "      <td>0.000000</td>\n",
              "      <td>3.541942</td>\n",
              "      <td>1.004713</td>\n",
              "      <td>1.032045</td>\n",
              "      <td>39928.083883</td>\n",
              "      <td>19.713478</td>\n",
              "      <td>809.139491</td>\n",
              "      <td>2.377003</td>\n",
              "      <td>5095.663525</td>\n",
              "      <td>0.553252</td>\n",
              "    </tr>\n",
              "    <tr>\n",
              "      <th>1</th>\n",
              "      <td>1</td>\n",
              "      <td>2168.733392</td>\n",
              "      <td>39231.260927</td>\n",
              "      <td>0.000000</td>\n",
              "      <td>1.506119</td>\n",
              "      <td>1.016608</td>\n",
              "      <td>1.005682</td>\n",
              "      <td>7506.878497</td>\n",
              "      <td>7.910839</td>\n",
              "      <td>53.164773</td>\n",
              "      <td>0.161713</td>\n",
              "      <td>3831.724213</td>\n",
              "      <td>0.220717</td>\n",
              "    </tr>\n",
              "    <tr>\n",
              "      <th>2</th>\n",
              "      <td>2</td>\n",
              "      <td>2607.044811</td>\n",
              "      <td>46620.754717</td>\n",
              "      <td>0.000000</td>\n",
              "      <td>1.268868</td>\n",
              "      <td>1.030660</td>\n",
              "      <td>1.000000</td>\n",
              "      <td>8399.268868</td>\n",
              "      <td>9.099057</td>\n",
              "      <td>1110.594340</td>\n",
              "      <td>3.367925</td>\n",
              "      <td>3094.386792</td>\n",
              "      <td>0.573113</td>\n",
              "    </tr>\n",
              "    <tr>\n",
              "      <th>3</th>\n",
              "      <td>3</td>\n",
              "      <td>2367.264151</td>\n",
              "      <td>46202.320755</td>\n",
              "      <td>2805.528302</td>\n",
              "      <td>1.000000</td>\n",
              "      <td>1.000000</td>\n",
              "      <td>1.000000</td>\n",
              "      <td>2909.528302</td>\n",
              "      <td>3.962264</td>\n",
              "      <td>188.245283</td>\n",
              "      <td>0.566038</td>\n",
              "      <td>3446.471698</td>\n",
              "      <td>0.264151</td>\n",
              "    </tr>\n",
              "    <tr>\n",
              "      <th>4</th>\n",
              "      <td>4</td>\n",
              "      <td>1724.895954</td>\n",
              "      <td>159656.138728</td>\n",
              "      <td>2471.797688</td>\n",
              "      <td>2.549133</td>\n",
              "      <td>1.011561</td>\n",
              "      <td>1.011561</td>\n",
              "      <td>30678.092486</td>\n",
              "      <td>19.144509</td>\n",
              "      <td>2189.341040</td>\n",
              "      <td>6.606936</td>\n",
              "      <td>4635.560694</td>\n",
              "      <td>0.763006</td>\n",
              "    </tr>\n",
              "  </tbody>\n",
              "</table>\n",
              "</div>"
            ],
            "text/plain": [
              "  cluster          ID#  ... Days_since_enroll    Award?\n",
              "                  mean  ...              mean      mean\n",
              "0       0  1475.911404  ...       5095.663525  0.553252\n",
              "1       1  2168.733392  ...       3831.724213  0.220717\n",
              "2       2  2607.044811  ...       3094.386792  0.573113\n",
              "3       3  2367.264151  ...       3446.471698  0.264151\n",
              "4       4  1724.895954  ...       4635.560694  0.763006\n",
              "\n",
              "[5 rows x 13 columns]"
            ]
          },
          "metadata": {},
          "execution_count": 31
        }
      ]
    },
    {
      "cell_type": "code",
      "metadata": {
        "id": "W7wyC7guBvYE",
        "colab": {
          "base_uri": "https://localhost:8080/"
        },
        "outputId": "02a25de6-93dc-4b5b-ab2a-014767f700d8"
      },
      "source": [
        "for i in range(5):\n",
        "    print(\"cluster\", i)\n",
        "   # print(\"The Members:\",(list(airlines[airlines['cluster'] == i]['ID#'].values)))\n",
        "    print(\"Total Members:\", len(list(Airlines[Airlines['cluster'] == i]['ID#'].values)))\n",
        "    print()"
      ],
      "execution_count": 32,
      "outputs": [
        {
          "output_type": "stream",
          "name": "stdout",
          "text": [
            "cluster 0\n",
            "Total Members: 1061\n",
            "\n",
            "cluster 1\n",
            "Total Members: 2288\n",
            "\n",
            "cluster 2\n",
            "Total Members: 424\n",
            "\n",
            "cluster 3\n",
            "Total Members: 53\n",
            "\n",
            "cluster 4\n",
            "Total Members: 173\n",
            "\n"
          ]
        }
      ]
    },
    {
      "cell_type": "markdown",
      "metadata": {
        "id": "Q6HcL3HPBvYF"
      },
      "source": [
        "## Applying signle linkage method"
      ]
    },
    {
      "cell_type": "code",
      "metadata": {
        "id": "w1qGFxBTBvYG",
        "colab": {
          "base_uri": "https://localhost:8080/",
          "height": 629
        },
        "outputId": "3118059c-06f3-407b-d495-850813fc401c"
      },
      "source": [
        "fig=plt.figure(figsize=(16,10))\n",
        "dendrogram = sch.dendrogram(sch.linkage(Airlines2_transformed, method='single'))\n",
        "plt.title(\"Dendogram\",size=15)"
      ],
      "execution_count": 33,
      "outputs": [
        {
          "output_type": "execute_result",
          "data": {
            "text/plain": [
              "Text(0.5, 1.0, 'Dendogram')"
            ]
          },
          "metadata": {},
          "execution_count": 33
        },
        {
          "output_type": "display_data",
          "data": {
            "image/png": "[encoded data removed]",
            "text/plain": [
              "<Figure size 1152x720 with 1 Axes>"
            ]
          },
          "metadata": {
            "needs_background": "light"
          }
        }
      ]
    },
    {
      "cell_type": "markdown",
      "metadata": {
        "id": "fzSpseCPBvYG"
      },
      "source": [
        "### Create Cluster"
      ]
    },
    {
      "cell_type": "code",
      "metadata": {
        "id": "GKhNOU9uBvYG",
        "colab": {
          "base_uri": "https://localhost:8080/",
          "height": 0
        },
        "outputId": "3382ed3b-a518-46cf-ef94-5895fbc91063"
      },
      "source": [
        "hc4 = AgglomerativeClustering(n_clusters=5, affinity = 'euclidean', linkage = 'single')\n",
        "y_hc4 = hc4.fit_predict(Airlines2_transformed)\n",
        "Clusters=pd.DataFrame(y_hc4,columns=['Clusters'])\n",
        "Airlines['cluster'] = y_hc4\n",
        "Airlines.groupby('cluster').agg(['mean']).reset_index()"
      ],
      "execution_count": 34,
      "outputs": [
        {
          "output_type": "execute_result",
          "data": {
            "text/html": [
              "<div>\n",
              "<style scoped>\n",
              "    .dataframe tbody tr th:only-of-type {\n",
              "        vertical-align: middle;\n",
              "    }\n",
              "\n",
              "    .dataframe tbody tr th {\n",
              "        vertical-align: top;\n",
              "    }\n",
              "\n",
              "    .dataframe thead tr th {\n",
              "        text-align: left;\n",
              "    }\n",
              "</style>\n",
              "<table border=\"1\" class=\"dataframe\">\n",
              "  <thead>\n",
              "    <tr>\n",
              "      <th></th>\n",
              "      <th>cluster</th>\n",
              "      <th>ID#</th>\n",
              "      <th>Balance</th>\n",
              "      <th>Qual_miles</th>\n",
              "      <th>cc1_miles</th>\n",
              "      <th>cc2_miles</th>\n",
              "      <th>cc3_miles</th>\n",
              "      <th>Bonus_miles</th>\n",
              "      <th>Bonus_trans</th>\n",
              "      <th>Flight_miles_12mo</th>\n",
              "      <th>Flight_trans_12</th>\n",
              "      <th>Days_since_enroll</th>\n",
              "      <th>Award?</th>\n",
              "    </tr>\n",
              "    <tr>\n",
              "      <th></th>\n",
              "      <th></th>\n",
              "      <th>mean</th>\n",
              "      <th>mean</th>\n",
              "      <th>mean</th>\n",
              "      <th>mean</th>\n",
              "      <th>mean</th>\n",
              "      <th>mean</th>\n",
              "      <th>mean</th>\n",
              "      <th>mean</th>\n",
              "      <th>mean</th>\n",
              "      <th>mean</th>\n",
              "      <th>mean</th>\n",
              "      <th>mean</th>\n",
              "    </tr>\n",
              "  </thead>\n",
              "  <tbody>\n",
              "    <tr>\n",
              "      <th>0</th>\n",
              "      <td>0</td>\n",
              "      <td>2028.933333</td>\n",
              "      <td>57973.546667</td>\n",
              "      <td>2634.706667</td>\n",
              "      <td>2.000000</td>\n",
              "      <td>1.000000</td>\n",
              "      <td>1.000000</td>\n",
              "      <td>15002.626667</td>\n",
              "      <td>10.026667</td>\n",
              "      <td>0.000000</td>\n",
              "      <td>0.000000</td>\n",
              "      <td>4111.026667</td>\n",
              "      <td>0.400000</td>\n",
              "    </tr>\n",
              "    <tr>\n",
              "      <th>1</th>\n",
              "      <td>1</td>\n",
              "      <td>1889.258897</td>\n",
              "      <td>103982.716192</td>\n",
              "      <td>0.000000</td>\n",
              "      <td>2.289146</td>\n",
              "      <td>1.017794</td>\n",
              "      <td>1.016904</td>\n",
              "      <td>23871.654804</td>\n",
              "      <td>15.131673</td>\n",
              "      <td>1289.069395</td>\n",
              "      <td>3.838968</td>\n",
              "      <td>4370.880783</td>\n",
              "      <td>0.546263</td>\n",
              "    </tr>\n",
              "    <tr>\n",
              "      <th>2</th>\n",
              "      <td>2</td>\n",
              "      <td>1799.350993</td>\n",
              "      <td>170339.198675</td>\n",
              "      <td>2508.019868</td>\n",
              "      <td>2.278146</td>\n",
              "      <td>1.013245</td>\n",
              "      <td>1.013245</td>\n",
              "      <td>28717.337748</td>\n",
              "      <td>18.344371</td>\n",
              "      <td>2574.390728</td>\n",
              "      <td>7.768212</td>\n",
              "      <td>4478.728477</td>\n",
              "      <td>0.768212</td>\n",
              "    </tr>\n",
              "    <tr>\n",
              "      <th>3</th>\n",
              "      <td>3</td>\n",
              "      <td>2079.624622</td>\n",
              "      <td>55659.328172</td>\n",
              "      <td>0.000000</td>\n",
              "      <td>1.951662</td>\n",
              "      <td>1.013595</td>\n",
              "      <td>1.010574</td>\n",
              "      <td>13694.672961</td>\n",
              "      <td>9.761329</td>\n",
              "      <td>0.000000</td>\n",
              "      <td>0.000000</td>\n",
              "      <td>3991.476586</td>\n",
              "      <td>0.271903</td>\n",
              "    </tr>\n",
              "    <tr>\n",
              "      <th>4</th>\n",
              "      <td>4</td>\n",
              "      <td>3018.000000</td>\n",
              "      <td>0.000000</td>\n",
              "      <td>0.000000</td>\n",
              "      <td>1.000000</td>\n",
              "      <td>1.000000</td>\n",
              "      <td>1.000000</td>\n",
              "      <td>5491.000000</td>\n",
              "      <td>18.000000</td>\n",
              "      <td>2116.000000</td>\n",
              "      <td>5.000000</td>\n",
              "      <td>3204.000000</td>\n",
              "      <td>1.000000</td>\n",
              "    </tr>\n",
              "  </tbody>\n",
              "</table>\n",
              "</div>"
            ],
            "text/plain": [
              "  cluster          ID#  ... Days_since_enroll    Award?\n",
              "                  mean  ...              mean      mean\n",
              "0       0  2028.933333  ...       4111.026667  0.400000\n",
              "1       1  1889.258897  ...       4370.880783  0.546263\n",
              "2       2  1799.350993  ...       4478.728477  0.768212\n",
              "3       3  2079.624622  ...       3991.476586  0.271903\n",
              "4       4  3018.000000  ...       3204.000000  1.000000\n",
              "\n",
              "[5 rows x 13 columns]"
            ]
          },
          "metadata": {},
          "execution_count": 34
        }
      ]
    },
    {
      "cell_type": "code",
      "metadata": {
        "id": "DrPrSs-7BvYH",
        "colab": {
          "base_uri": "https://localhost:8080/"
        },
        "outputId": "9607cf43-1404-4bcd-c955-8922bd1b3caa"
      },
      "source": [
        "for i in range(5):\n",
        "    print(\"cluster\", i)\n",
        "   # print(\"The Members:\",(list(airlines[airlines['cluster'] == i]['ID#'].values)))\n",
        "    print(\"Total Members:\", len(list(Airlines[Airlines['cluster'] == i]['ID#'].values)))\n",
        "    print()"
      ],
      "execution_count": 35,
      "outputs": [
        {
          "output_type": "stream",
          "name": "stdout",
          "text": [
            "cluster 0\n",
            "Total Members: 75\n",
            "\n",
            "cluster 1\n",
            "Total Members: 1124\n",
            "\n",
            "cluster 2\n",
            "Total Members: 151\n",
            "\n",
            "cluster 3\n",
            "Total Members: 2648\n",
            "\n",
            "cluster 4\n",
            "Total Members: 1\n",
            "\n"
          ]
        }
      ]
    },
    {
      "cell_type": "markdown",
      "metadata": {
        "id": "-wPYKOI4BvYI"
      },
      "source": [
        "# Applying K-means clustering"
      ]
    },
    {
      "cell_type": "code",
      "metadata": {
        "id": "MK6neOHhBvYI",
        "colab": {
          "base_uri": "https://localhost:8080/",
          "height": 295
        },
        "outputId": "fc32d1e9-a14b-43e1-e6d3-253457db53f2"
      },
      "source": [
        "from sklearn.cluster import KMeans\n",
        "wcss = []\n",
        "for i in range(1, 11):\n",
        "    kmeans = KMeans(n_clusters=i,random_state=0)\n",
        "    kmeans.fit(Airlines2_transformed)\n",
        "    wcss.append(kmeans.inertia_)\n",
        "    \n",
        "plt.plot(range(1, 11), wcss)\n",
        "plt.title('Elbow Method')\n",
        "plt.xlabel('Number of clusters')\n",
        "plt.ylabel('WCSS')\n",
        "plt.show()"
      ],
      "execution_count": 36,
      "outputs": [
        {
          "output_type": "display_data",
          "data": {
            "image/png": "[encoded data removed]",
            "text/plain": [
              "<Figure size 432x288 with 1 Axes>"
            ]
          },
          "metadata": {
            "needs_background": "light"
          }
        }
      ]
    },
    {
      "cell_type": "code",
      "metadata": {
        "id": "LNYqPtIoBvYJ",
        "colab": {
          "base_uri": "https://localhost:8080/"
        },
        "outputId": "0aa17e49-e587-4c6e-c803-07f749dde821"
      },
      "source": [
        "from sklearn.cluster import KMeans\n",
        "clusters_new = KMeans(5, random_state=42)\n",
        "clusters_new.fit(Airlines2_transformed)"
      ],
      "execution_count": 37,
      "outputs": [
        {
          "output_type": "execute_result",
          "data": {
            "text/plain": [
              "KMeans(algorithm='auto', copy_x=True, init='k-means++', max_iter=300,\n",
              "       n_clusters=5, n_init=10, n_jobs=None, precompute_distances='auto',\n",
              "       random_state=42, tol=0.0001, verbose=0)"
            ]
          },
          "metadata": {},
          "execution_count": 37
        }
      ]
    },
    {
      "cell_type": "code",
      "metadata": {
        "id": "jsoxTvPBBvYJ",
        "colab": {
          "base_uri": "https://localhost:8080/"
        },
        "outputId": "8ea7a75a-a91e-44a2-d21a-8aabdc81e868"
      },
      "source": [
        "KM_label=clusters_new.labels_\n",
        "Airlines['cluster'] = clusters_new.labels_\n",
        "clusters_new.cluster_centers_"
      ],
      "execution_count": 38,
      "outputs": [
        {
          "output_type": "execute_result",
          "data": {
            "text/plain": [
              "array([[ 0.3716131 , -0.2447433 ,  0.91050667,  0.        ,  0.        ,\n",
              "         0.71778185,  0.59247143, -0.68330804, -0.67497033,  0.23901663,\n",
              "         0.18155587],\n",
              "       [-0.67521284, -0.23299118, -0.83559045,  0.        ,  0.        ,\n",
              "        -0.90908093, -0.81943355, -0.68208419, -0.67377899, -0.31097105,\n",
              "        -0.51403548],\n",
              "       [ 0.59561724,  4.08591363,  0.06270738,  0.        ,  0.        ,\n",
              "         0.37140654,  0.40074101,  0.79577474,  0.85126029,  0.15196421,\n",
              "         0.59498281],\n",
              "       [ 0.75450559, -0.2447433 ,  1.11374957,  0.        ,  0.        ,\n",
              "         1.03665259,  1.04603128,  1.45646102,  1.41053352,  0.35829033,\n",
              "         0.67251944],\n",
              "       [ 0.01600745, -0.2447433 , -0.81923926,  0.        ,  0.        ,\n",
              "        -0.27910528, -0.27226266,  1.45172819,  1.43587521, -0.09525881,\n",
              "         0.07153496]])"
            ]
          },
          "metadata": {},
          "execution_count": 38
        }
      ]
    },
    {
      "cell_type": "code",
      "metadata": {
        "id": "GdvBEyZyBvYK"
      },
      "source": [
        "A=Airlines .iloc[:,1:].groupby('cluster').agg(['mean']).reset_index()"
      ],
      "execution_count": 39,
      "outputs": []
    },
    {
      "cell_type": "code",
      "metadata": {
        "id": "qm95CNCKBvYK",
        "colab": {
          "base_uri": "https://localhost:8080/",
          "height": 235
        },
        "outputId": "696aecc9-0bd1-447b-c8db-9cc0d59e9d86"
      },
      "source": [
        "A"
      ],
      "execution_count": 40,
      "outputs": [
        {
          "output_type": "execute_result",
          "data": {
            "text/html": [
              "<div>\n",
              "<style scoped>\n",
              "    .dataframe tbody tr th:only-of-type {\n",
              "        vertical-align: middle;\n",
              "    }\n",
              "\n",
              "    .dataframe tbody tr th {\n",
              "        vertical-align: top;\n",
              "    }\n",
              "\n",
              "    .dataframe thead tr th {\n",
              "        text-align: left;\n",
              "    }\n",
              "</style>\n",
              "<table border=\"1\" class=\"dataframe\">\n",
              "  <thead>\n",
              "    <tr>\n",
              "      <th></th>\n",
              "      <th>cluster</th>\n",
              "      <th>Balance</th>\n",
              "      <th>Qual_miles</th>\n",
              "      <th>cc1_miles</th>\n",
              "      <th>cc2_miles</th>\n",
              "      <th>cc3_miles</th>\n",
              "      <th>Bonus_miles</th>\n",
              "      <th>Bonus_trans</th>\n",
              "      <th>Flight_miles_12mo</th>\n",
              "      <th>Flight_trans_12</th>\n",
              "      <th>Days_since_enroll</th>\n",
              "      <th>Award?</th>\n",
              "    </tr>\n",
              "    <tr>\n",
              "      <th></th>\n",
              "      <th></th>\n",
              "      <th>mean</th>\n",
              "      <th>mean</th>\n",
              "      <th>mean</th>\n",
              "      <th>mean</th>\n",
              "      <th>mean</th>\n",
              "      <th>mean</th>\n",
              "      <th>mean</th>\n",
              "      <th>mean</th>\n",
              "      <th>mean</th>\n",
              "      <th>mean</th>\n",
              "      <th>mean</th>\n",
              "    </tr>\n",
              "  </thead>\n",
              "  <tbody>\n",
              "    <tr>\n",
              "      <th>0</th>\n",
              "      <td>0</td>\n",
              "      <td>89382.907549</td>\n",
              "      <td>0.000000</td>\n",
              "      <td>3.128923</td>\n",
              "      <td>1.011026</td>\n",
              "      <td>1.023749</td>\n",
              "      <td>27971.685327</td>\n",
              "      <td>16.074640</td>\n",
              "      <td>0.000000</td>\n",
              "      <td>0.000000</td>\n",
              "      <td>4593.606446</td>\n",
              "      <td>0.458015</td>\n",
              "    </tr>\n",
              "    <tr>\n",
              "      <th>1</th>\n",
              "      <td>1</td>\n",
              "      <td>28510.248982</td>\n",
              "      <td>8.273406</td>\n",
              "      <td>1.006784</td>\n",
              "      <td>1.015604</td>\n",
              "      <td>1.000000</td>\n",
              "      <td>2228.580054</td>\n",
              "      <td>4.679104</td>\n",
              "      <td>0.033921</td>\n",
              "      <td>0.000678</td>\n",
              "      <td>3501.601764</td>\n",
              "      <td>0.122117</td>\n",
              "    </tr>\n",
              "    <tr>\n",
              "      <th>2</th>\n",
              "      <td>2</td>\n",
              "      <td>135354.193694</td>\n",
              "      <td>2541.076577</td>\n",
              "      <td>2.207207</td>\n",
              "      <td>1.009009</td>\n",
              "      <td>1.009009</td>\n",
              "      <td>24601.418919</td>\n",
              "      <td>15.864865</td>\n",
              "      <td>1751.049550</td>\n",
              "      <td>5.283784</td>\n",
              "      <td>4422.950450</td>\n",
              "      <td>0.657658</td>\n",
              "    </tr>\n",
              "    <tr>\n",
              "      <th>3</th>\n",
              "      <td>3</td>\n",
              "      <td>140109.272232</td>\n",
              "      <td>0.000000</td>\n",
              "      <td>3.607985</td>\n",
              "      <td>1.009074</td>\n",
              "      <td>1.034483</td>\n",
              "      <td>43060.114338</td>\n",
              "      <td>22.517241</td>\n",
              "      <td>1373.820327</td>\n",
              "      <td>4.096189</td>\n",
              "      <td>4849.402904</td>\n",
              "      <td>0.695100</td>\n",
              "    </tr>\n",
              "    <tr>\n",
              "      <th>4</th>\n",
              "      <td>4</td>\n",
              "      <td>69243.130890</td>\n",
              "      <td>0.000000</td>\n",
              "      <td>1.020942</td>\n",
              "      <td>1.026178</td>\n",
              "      <td>1.000000</td>\n",
              "      <td>5429.420593</td>\n",
              "      <td>8.059337</td>\n",
              "      <td>1211.178010</td>\n",
              "      <td>3.598604</td>\n",
              "      <td>3907.469459</td>\n",
              "      <td>0.404887</td>\n",
              "    </tr>\n",
              "  </tbody>\n",
              "</table>\n",
              "</div>"
            ],
            "text/plain": [
              "  cluster        Balance  ... Days_since_enroll    Award?\n",
              "                    mean  ...              mean      mean\n",
              "0       0   89382.907549  ...       4593.606446  0.458015\n",
              "1       1   28510.248982  ...       3501.601764  0.122117\n",
              "2       2  135354.193694  ...       4422.950450  0.657658\n",
              "3       3  140109.272232  ...       4849.402904  0.695100\n",
              "4       4   69243.130890  ...       3907.469459  0.404887\n",
              "\n",
              "[5 rows x 12 columns]"
            ]
          },
          "metadata": {},
          "execution_count": 40
        }
      ]
    },
    {
      "cell_type": "code",
      "metadata": {
        "id": "kwO2fFKMBvYL",
        "colab": {
          "base_uri": "https://localhost:8080/"
        },
        "outputId": "cbafca31-4868-400a-bcb6-cb4764ed000d"
      },
      "source": [
        "for i in range(5):\n",
        "    print(\"cluster\", i)\n",
        "   # print(\"The Members:\",(list(airlines[airlines['cluster'] == i]['ID#'].values)))\n",
        "    print(\"Total Members:\", len(list(Airlines[Airlines['cluster'] == i]['ID#'].values)))\n",
        "    print()"
      ],
      "execution_count": 41,
      "outputs": [
        {
          "output_type": "stream",
          "name": "stdout",
          "text": [
            "cluster 0\n",
            "Total Members: 1179\n",
            "\n",
            "cluster 1\n",
            "Total Members: 1474\n",
            "\n",
            "cluster 2\n",
            "Total Members: 222\n",
            "\n",
            "cluster 3\n",
            "Total Members: 551\n",
            "\n",
            "cluster 4\n",
            "Total Members: 573\n",
            "\n"
          ]
        }
      ]
    },
    {
      "cell_type": "markdown",
      "metadata": {
        "id": "YcVuUFXYBvYM"
      },
      "source": [
        "## Applying DBSCAN clustering technique"
      ]
    },
    {
      "cell_type": "code",
      "metadata": {
        "id": "FNCpwL07BvYM",
        "colab": {
          "base_uri": "https://localhost:8080/"
        },
        "outputId": "42347a09-e70b-400c-df02-153c02471b35"
      },
      "source": [
        "from sklearn.cluster import DBSCAN\n",
        "dbscan = DBSCAN(eps=0.8, min_samples=6)\n",
        "dbscan.fit(Airlines2)"
      ],
      "execution_count": 42,
      "outputs": [
        {
          "output_type": "execute_result",
          "data": {
            "text/plain": [
              "DBSCAN(algorithm='auto', eps=0.8, leaf_size=30, metric='euclidean',\n",
              "       metric_params=None, min_samples=6, n_jobs=None, p=None)"
            ]
          },
          "metadata": {},
          "execution_count": 42
        }
      ]
    },
    {
      "cell_type": "code",
      "metadata": {
        "id": "Vm1gZpZSBvYN",
        "colab": {
          "base_uri": "https://localhost:8080/"
        },
        "outputId": "587eb7cf-e908-4022-c59b-5c1f3a6eb09d"
      },
      "source": [
        "dbscan.labels_"
      ],
      "execution_count": 43,
      "outputs": [
        {
          "output_type": "execute_result",
          "data": {
            "text/plain": [
              "array([0, 0, 0, ..., 4, 6, 0])"
            ]
          },
          "metadata": {},
          "execution_count": 43
        }
      ]
    },
    {
      "cell_type": "code",
      "metadata": {
        "id": "uEpz4pJpBvYN"
      },
      "source": [
        "cl=pd.DataFrame(dbscan.labels_,columns=['cluster'])"
      ],
      "execution_count": 44,
      "outputs": []
    },
    {
      "cell_type": "code",
      "metadata": {
        "id": "XJXjIf33BvYN",
        "colab": {
          "base_uri": "https://localhost:8080/",
          "height": 419
        },
        "outputId": "b4a026ab-73a8-4706-cabb-2f0ac4dbda3f"
      },
      "source": [
        "cl"
      ],
      "execution_count": 45,
      "outputs": [
        {
          "output_type": "execute_result",
          "data": {
            "text/html": [
              "<div>\n",
              "<style scoped>\n",
              "    .dataframe tbody tr th:only-of-type {\n",
              "        vertical-align: middle;\n",
              "    }\n",
              "\n",
              "    .dataframe tbody tr th {\n",
              "        vertical-align: top;\n",
              "    }\n",
              "\n",
              "    .dataframe thead th {\n",
              "        text-align: right;\n",
              "    }\n",
              "</style>\n",
              "<table border=\"1\" class=\"dataframe\">\n",
              "  <thead>\n",
              "    <tr style=\"text-align: right;\">\n",
              "      <th></th>\n",
              "      <th>cluster</th>\n",
              "    </tr>\n",
              "  </thead>\n",
              "  <tbody>\n",
              "    <tr>\n",
              "      <th>0</th>\n",
              "      <td>0</td>\n",
              "    </tr>\n",
              "    <tr>\n",
              "      <th>1</th>\n",
              "      <td>0</td>\n",
              "    </tr>\n",
              "    <tr>\n",
              "      <th>2</th>\n",
              "      <td>0</td>\n",
              "    </tr>\n",
              "    <tr>\n",
              "      <th>3</th>\n",
              "      <td>0</td>\n",
              "    </tr>\n",
              "    <tr>\n",
              "      <th>4</th>\n",
              "      <td>1</td>\n",
              "    </tr>\n",
              "    <tr>\n",
              "      <th>...</th>\n",
              "      <td>...</td>\n",
              "    </tr>\n",
              "    <tr>\n",
              "      <th>3994</th>\n",
              "      <td>3</td>\n",
              "    </tr>\n",
              "    <tr>\n",
              "      <th>3995</th>\n",
              "      <td>5</td>\n",
              "    </tr>\n",
              "    <tr>\n",
              "      <th>3996</th>\n",
              "      <td>4</td>\n",
              "    </tr>\n",
              "    <tr>\n",
              "      <th>3997</th>\n",
              "      <td>6</td>\n",
              "    </tr>\n",
              "    <tr>\n",
              "      <th>3998</th>\n",
              "      <td>0</td>\n",
              "    </tr>\n",
              "  </tbody>\n",
              "</table>\n",
              "<p>3999 rows × 1 columns</p>\n",
              "</div>"
            ],
            "text/plain": [
              "      cluster\n",
              "0           0\n",
              "1           0\n",
              "2           0\n",
              "3           0\n",
              "4           1\n",
              "...       ...\n",
              "3994        3\n",
              "3995        5\n",
              "3996        4\n",
              "3997        6\n",
              "3998        0\n",
              "\n",
              "[3999 rows x 1 columns]"
            ]
          },
          "metadata": {},
          "execution_count": 45
        }
      ]
    },
    {
      "cell_type": "code",
      "metadata": {
        "id": "f-qWU3l5BvYO"
      },
      "source": [
        "Airlines3 = pd.concat([Airlines,cl],axis=1)"
      ],
      "execution_count": 46,
      "outputs": []
    },
    {
      "cell_type": "code",
      "metadata": {
        "id": "toKJKjLXBvYO",
        "colab": {
          "base_uri": "https://localhost:8080/",
          "height": 439
        },
        "outputId": "84064bab-e099-47b8-de3c-8a3a8a38ee77"
      },
      "source": [
        "Airlines3"
      ],
      "execution_count": 47,
      "outputs": [
        {
          "output_type": "execute_result",
          "data": {
            "text/html": [
              "<div>\n",
              "<style scoped>\n",
              "    .dataframe tbody tr th:only-of-type {\n",
              "        vertical-align: middle;\n",
              "    }\n",
              "\n",
              "    .dataframe tbody tr th {\n",
              "        vertical-align: top;\n",
              "    }\n",
              "\n",
              "    .dataframe thead th {\n",
              "        text-align: right;\n",
              "    }\n",
              "</style>\n",
              "<table border=\"1\" class=\"dataframe\">\n",
              "  <thead>\n",
              "    <tr style=\"text-align: right;\">\n",
              "      <th></th>\n",
              "      <th>ID#</th>\n",
              "      <th>Balance</th>\n",
              "      <th>Qual_miles</th>\n",
              "      <th>cc1_miles</th>\n",
              "      <th>cc2_miles</th>\n",
              "      <th>cc3_miles</th>\n",
              "      <th>Bonus_miles</th>\n",
              "      <th>Bonus_trans</th>\n",
              "      <th>Flight_miles_12mo</th>\n",
              "      <th>Flight_trans_12</th>\n",
              "      <th>Days_since_enroll</th>\n",
              "      <th>Award?</th>\n",
              "      <th>cluster</th>\n",
              "      <th>cluster</th>\n",
              "    </tr>\n",
              "  </thead>\n",
              "  <tbody>\n",
              "    <tr>\n",
              "      <th>0</th>\n",
              "      <td>1</td>\n",
              "      <td>28143</td>\n",
              "      <td>0</td>\n",
              "      <td>1</td>\n",
              "      <td>1</td>\n",
              "      <td>1</td>\n",
              "      <td>174</td>\n",
              "      <td>1</td>\n",
              "      <td>0</td>\n",
              "      <td>0</td>\n",
              "      <td>7000</td>\n",
              "      <td>0</td>\n",
              "      <td>1</td>\n",
              "      <td>0</td>\n",
              "    </tr>\n",
              "    <tr>\n",
              "      <th>1</th>\n",
              "      <td>2</td>\n",
              "      <td>19244</td>\n",
              "      <td>0</td>\n",
              "      <td>1</td>\n",
              "      <td>1</td>\n",
              "      <td>1</td>\n",
              "      <td>215</td>\n",
              "      <td>2</td>\n",
              "      <td>0</td>\n",
              "      <td>0</td>\n",
              "      <td>6968</td>\n",
              "      <td>0</td>\n",
              "      <td>1</td>\n",
              "      <td>0</td>\n",
              "    </tr>\n",
              "    <tr>\n",
              "      <th>2</th>\n",
              "      <td>3</td>\n",
              "      <td>41354</td>\n",
              "      <td>0</td>\n",
              "      <td>1</td>\n",
              "      <td>1</td>\n",
              "      <td>1</td>\n",
              "      <td>4123</td>\n",
              "      <td>4</td>\n",
              "      <td>0</td>\n",
              "      <td>0</td>\n",
              "      <td>7034</td>\n",
              "      <td>0</td>\n",
              "      <td>1</td>\n",
              "      <td>0</td>\n",
              "    </tr>\n",
              "    <tr>\n",
              "      <th>3</th>\n",
              "      <td>4</td>\n",
              "      <td>14776</td>\n",
              "      <td>0</td>\n",
              "      <td>1</td>\n",
              "      <td>1</td>\n",
              "      <td>1</td>\n",
              "      <td>500</td>\n",
              "      <td>1</td>\n",
              "      <td>0</td>\n",
              "      <td>0</td>\n",
              "      <td>6952</td>\n",
              "      <td>0</td>\n",
              "      <td>1</td>\n",
              "      <td>0</td>\n",
              "    </tr>\n",
              "    <tr>\n",
              "      <th>4</th>\n",
              "      <td>5</td>\n",
              "      <td>97752</td>\n",
              "      <td>0</td>\n",
              "      <td>4</td>\n",
              "      <td>1</td>\n",
              "      <td>1</td>\n",
              "      <td>43300</td>\n",
              "      <td>26</td>\n",
              "      <td>2077</td>\n",
              "      <td>4</td>\n",
              "      <td>6935</td>\n",
              "      <td>1</td>\n",
              "      <td>3</td>\n",
              "      <td>1</td>\n",
              "    </tr>\n",
              "    <tr>\n",
              "      <th>...</th>\n",
              "      <td>...</td>\n",
              "      <td>...</td>\n",
              "      <td>...</td>\n",
              "      <td>...</td>\n",
              "      <td>...</td>\n",
              "      <td>...</td>\n",
              "      <td>...</td>\n",
              "      <td>...</td>\n",
              "      <td>...</td>\n",
              "      <td>...</td>\n",
              "      <td>...</td>\n",
              "      <td>...</td>\n",
              "      <td>...</td>\n",
              "      <td>...</td>\n",
              "    </tr>\n",
              "    <tr>\n",
              "      <th>3994</th>\n",
              "      <td>4017</td>\n",
              "      <td>18476</td>\n",
              "      <td>0</td>\n",
              "      <td>1</td>\n",
              "      <td>1</td>\n",
              "      <td>1</td>\n",
              "      <td>8525</td>\n",
              "      <td>4</td>\n",
              "      <td>200</td>\n",
              "      <td>1</td>\n",
              "      <td>1403</td>\n",
              "      <td>1</td>\n",
              "      <td>4</td>\n",
              "      <td>3</td>\n",
              "    </tr>\n",
              "    <tr>\n",
              "      <th>3995</th>\n",
              "      <td>4018</td>\n",
              "      <td>64385</td>\n",
              "      <td>0</td>\n",
              "      <td>1</td>\n",
              "      <td>1</td>\n",
              "      <td>1</td>\n",
              "      <td>981</td>\n",
              "      <td>5</td>\n",
              "      <td>0</td>\n",
              "      <td>0</td>\n",
              "      <td>1395</td>\n",
              "      <td>1</td>\n",
              "      <td>1</td>\n",
              "      <td>5</td>\n",
              "    </tr>\n",
              "    <tr>\n",
              "      <th>3996</th>\n",
              "      <td>4019</td>\n",
              "      <td>73597</td>\n",
              "      <td>0</td>\n",
              "      <td>3</td>\n",
              "      <td>1</td>\n",
              "      <td>1</td>\n",
              "      <td>25447</td>\n",
              "      <td>8</td>\n",
              "      <td>0</td>\n",
              "      <td>0</td>\n",
              "      <td>1402</td>\n",
              "      <td>1</td>\n",
              "      <td>0</td>\n",
              "      <td>4</td>\n",
              "    </tr>\n",
              "    <tr>\n",
              "      <th>3997</th>\n",
              "      <td>4020</td>\n",
              "      <td>54899</td>\n",
              "      <td>0</td>\n",
              "      <td>1</td>\n",
              "      <td>1</td>\n",
              "      <td>1</td>\n",
              "      <td>500</td>\n",
              "      <td>1</td>\n",
              "      <td>500</td>\n",
              "      <td>1</td>\n",
              "      <td>1401</td>\n",
              "      <td>0</td>\n",
              "      <td>4</td>\n",
              "      <td>6</td>\n",
              "    </tr>\n",
              "    <tr>\n",
              "      <th>3998</th>\n",
              "      <td>4021</td>\n",
              "      <td>3016</td>\n",
              "      <td>0</td>\n",
              "      <td>1</td>\n",
              "      <td>1</td>\n",
              "      <td>1</td>\n",
              "      <td>0</td>\n",
              "      <td>0</td>\n",
              "      <td>0</td>\n",
              "      <td>0</td>\n",
              "      <td>1398</td>\n",
              "      <td>0</td>\n",
              "      <td>1</td>\n",
              "      <td>0</td>\n",
              "    </tr>\n",
              "  </tbody>\n",
              "</table>\n",
              "<p>3999 rows × 14 columns</p>\n",
              "</div>"
            ],
            "text/plain": [
              "       ID#  Balance  Qual_miles  ...  Award?  cluster  cluster\n",
              "0        1    28143           0  ...       0        1        0\n",
              "1        2    19244           0  ...       0        1        0\n",
              "2        3    41354           0  ...       0        1        0\n",
              "3        4    14776           0  ...       0        1        0\n",
              "4        5    97752           0  ...       1        3        1\n",
              "...    ...      ...         ...  ...     ...      ...      ...\n",
              "3994  4017    18476           0  ...       1        4        3\n",
              "3995  4018    64385           0  ...       1        1        5\n",
              "3996  4019    73597           0  ...       1        0        4\n",
              "3997  4020    54899           0  ...       0        4        6\n",
              "3998  4021     3016           0  ...       0        1        0\n",
              "\n",
              "[3999 rows x 14 columns]"
            ]
          },
          "metadata": {},
          "execution_count": 47
        }
      ]
    },
    {
      "cell_type": "code",
      "metadata": {
        "id": "gfCenJQFBvYP",
        "colab": {
          "base_uri": "https://localhost:8080/",
          "height": 419
        },
        "outputId": "40693715-b1a0-40c1-8755-c02712d6b0cd"
      },
      "source": [
        "Airlines"
      ],
      "execution_count": 48,
      "outputs": [
        {
          "output_type": "execute_result",
          "data": {
            "text/html": [
              "<div>\n",
              "<style scoped>\n",
              "    .dataframe tbody tr th:only-of-type {\n",
              "        vertical-align: middle;\n",
              "    }\n",
              "\n",
              "    .dataframe tbody tr th {\n",
              "        vertical-align: top;\n",
              "    }\n",
              "\n",
              "    .dataframe thead th {\n",
              "        text-align: right;\n",
              "    }\n",
              "</style>\n",
              "<table border=\"1\" class=\"dataframe\">\n",
              "  <thead>\n",
              "    <tr style=\"text-align: right;\">\n",
              "      <th></th>\n",
              "      <th>ID#</th>\n",
              "      <th>Balance</th>\n",
              "      <th>Qual_miles</th>\n",
              "      <th>cc1_miles</th>\n",
              "      <th>cc2_miles</th>\n",
              "      <th>cc3_miles</th>\n",
              "      <th>Bonus_miles</th>\n",
              "      <th>Bonus_trans</th>\n",
              "      <th>Flight_miles_12mo</th>\n",
              "      <th>Flight_trans_12</th>\n",
              "      <th>Days_since_enroll</th>\n",
              "      <th>Award?</th>\n",
              "      <th>cluster</th>\n",
              "    </tr>\n",
              "  </thead>\n",
              "  <tbody>\n",
              "    <tr>\n",
              "      <th>0</th>\n",
              "      <td>1</td>\n",
              "      <td>28143</td>\n",
              "      <td>0</td>\n",
              "      <td>1</td>\n",
              "      <td>1</td>\n",
              "      <td>1</td>\n",
              "      <td>174</td>\n",
              "      <td>1</td>\n",
              "      <td>0</td>\n",
              "      <td>0</td>\n",
              "      <td>7000</td>\n",
              "      <td>0</td>\n",
              "      <td>1</td>\n",
              "    </tr>\n",
              "    <tr>\n",
              "      <th>1</th>\n",
              "      <td>2</td>\n",
              "      <td>19244</td>\n",
              "      <td>0</td>\n",
              "      <td>1</td>\n",
              "      <td>1</td>\n",
              "      <td>1</td>\n",
              "      <td>215</td>\n",
              "      <td>2</td>\n",
              "      <td>0</td>\n",
              "      <td>0</td>\n",
              "      <td>6968</td>\n",
              "      <td>0</td>\n",
              "      <td>1</td>\n",
              "    </tr>\n",
              "    <tr>\n",
              "      <th>2</th>\n",
              "      <td>3</td>\n",
              "      <td>41354</td>\n",
              "      <td>0</td>\n",
              "      <td>1</td>\n",
              "      <td>1</td>\n",
              "      <td>1</td>\n",
              "      <td>4123</td>\n",
              "      <td>4</td>\n",
              "      <td>0</td>\n",
              "      <td>0</td>\n",
              "      <td>7034</td>\n",
              "      <td>0</td>\n",
              "      <td>1</td>\n",
              "    </tr>\n",
              "    <tr>\n",
              "      <th>3</th>\n",
              "      <td>4</td>\n",
              "      <td>14776</td>\n",
              "      <td>0</td>\n",
              "      <td>1</td>\n",
              "      <td>1</td>\n",
              "      <td>1</td>\n",
              "      <td>500</td>\n",
              "      <td>1</td>\n",
              "      <td>0</td>\n",
              "      <td>0</td>\n",
              "      <td>6952</td>\n",
              "      <td>0</td>\n",
              "      <td>1</td>\n",
              "    </tr>\n",
              "    <tr>\n",
              "      <th>4</th>\n",
              "      <td>5</td>\n",
              "      <td>97752</td>\n",
              "      <td>0</td>\n",
              "      <td>4</td>\n",
              "      <td>1</td>\n",
              "      <td>1</td>\n",
              "      <td>43300</td>\n",
              "      <td>26</td>\n",
              "      <td>2077</td>\n",
              "      <td>4</td>\n",
              "      <td>6935</td>\n",
              "      <td>1</td>\n",
              "      <td>3</td>\n",
              "    </tr>\n",
              "    <tr>\n",
              "      <th>...</th>\n",
              "      <td>...</td>\n",
              "      <td>...</td>\n",
              "      <td>...</td>\n",
              "      <td>...</td>\n",
              "      <td>...</td>\n",
              "      <td>...</td>\n",
              "      <td>...</td>\n",
              "      <td>...</td>\n",
              "      <td>...</td>\n",
              "      <td>...</td>\n",
              "      <td>...</td>\n",
              "      <td>...</td>\n",
              "      <td>...</td>\n",
              "    </tr>\n",
              "    <tr>\n",
              "      <th>3994</th>\n",
              "      <td>4017</td>\n",
              "      <td>18476</td>\n",
              "      <td>0</td>\n",
              "      <td>1</td>\n",
              "      <td>1</td>\n",
              "      <td>1</td>\n",
              "      <td>8525</td>\n",
              "      <td>4</td>\n",
              "      <td>200</td>\n",
              "      <td>1</td>\n",
              "      <td>1403</td>\n",
              "      <td>1</td>\n",
              "      <td>4</td>\n",
              "    </tr>\n",
              "    <tr>\n",
              "      <th>3995</th>\n",
              "      <td>4018</td>\n",
              "      <td>64385</td>\n",
              "      <td>0</td>\n",
              "      <td>1</td>\n",
              "      <td>1</td>\n",
              "      <td>1</td>\n",
              "      <td>981</td>\n",
              "      <td>5</td>\n",
              "      <td>0</td>\n",
              "      <td>0</td>\n",
              "      <td>1395</td>\n",
              "      <td>1</td>\n",
              "      <td>1</td>\n",
              "    </tr>\n",
              "    <tr>\n",
              "      <th>3996</th>\n",
              "      <td>4019</td>\n",
              "      <td>73597</td>\n",
              "      <td>0</td>\n",
              "      <td>3</td>\n",
              "      <td>1</td>\n",
              "      <td>1</td>\n",
              "      <td>25447</td>\n",
              "      <td>8</td>\n",
              "      <td>0</td>\n",
              "      <td>0</td>\n",
              "      <td>1402</td>\n",
              "      <td>1</td>\n",
              "      <td>0</td>\n",
              "    </tr>\n",
              "    <tr>\n",
              "      <th>3997</th>\n",
              "      <td>4020</td>\n",
              "      <td>54899</td>\n",
              "      <td>0</td>\n",
              "      <td>1</td>\n",
              "      <td>1</td>\n",
              "      <td>1</td>\n",
              "      <td>500</td>\n",
              "      <td>1</td>\n",
              "      <td>500</td>\n",
              "      <td>1</td>\n",
              "      <td>1401</td>\n",
              "      <td>0</td>\n",
              "      <td>4</td>\n",
              "    </tr>\n",
              "    <tr>\n",
              "      <th>3998</th>\n",
              "      <td>4021</td>\n",
              "      <td>3016</td>\n",
              "      <td>0</td>\n",
              "      <td>1</td>\n",
              "      <td>1</td>\n",
              "      <td>1</td>\n",
              "      <td>0</td>\n",
              "      <td>0</td>\n",
              "      <td>0</td>\n",
              "      <td>0</td>\n",
              "      <td>1398</td>\n",
              "      <td>0</td>\n",
              "      <td>1</td>\n",
              "    </tr>\n",
              "  </tbody>\n",
              "</table>\n",
              "<p>3999 rows × 13 columns</p>\n",
              "</div>"
            ],
            "text/plain": [
              "       ID#  Balance  Qual_miles  ...  Days_since_enroll  Award?  cluster\n",
              "0        1    28143           0  ...               7000       0        1\n",
              "1        2    19244           0  ...               6968       0        1\n",
              "2        3    41354           0  ...               7034       0        1\n",
              "3        4    14776           0  ...               6952       0        1\n",
              "4        5    97752           0  ...               6935       1        3\n",
              "...    ...      ...         ...  ...                ...     ...      ...\n",
              "3994  4017    18476           0  ...               1403       1        4\n",
              "3995  4018    64385           0  ...               1395       1        1\n",
              "3996  4019    73597           0  ...               1402       1        0\n",
              "3997  4020    54899           0  ...               1401       0        4\n",
              "3998  4021     3016           0  ...               1398       0        1\n",
              "\n",
              "[3999 rows x 13 columns]"
            ]
          },
          "metadata": {},
          "execution_count": 48
        }
      ]
    },
    {
      "cell_type": "markdown",
      "metadata": {
        "id": "QmKjIMisBvYP"
      },
      "source": [
        "# Importing the metrics for calculating silhouette score"
      ]
    },
    {
      "cell_type": "code",
      "metadata": {
        "id": "Rd3RhM6WBvYQ"
      },
      "source": [
        "from sklearn import metrics"
      ],
      "execution_count": 49,
      "outputs": []
    },
    {
      "cell_type": "code",
      "metadata": {
        "id": "rJxew_QPBvYQ",
        "colab": {
          "base_uri": "https://localhost:8080/"
        },
        "outputId": "6341f3d6-7e94-4d38-9a27-1a3482b175d8"
      },
      "source": [
        "#Calculating silhouette score for average linkage method\n",
        "print(metrics.silhouette_score(Airlines2_transformed,y_hc1))"
      ],
      "execution_count": 50,
      "outputs": [
        {
          "output_type": "stream",
          "name": "stdout",
          "text": [
            "0.24511194875209383\n"
          ]
        }
      ]
    },
    {
      "cell_type": "code",
      "metadata": {
        "id": "pVcyrriFBvYR",
        "colab": {
          "base_uri": "https://localhost:8080/"
        },
        "outputId": "5d736ba2-338c-42b2-f5bc-5944fbf185dd"
      },
      "source": [
        "#Calculating silhouette score for centroid(ward) linkage method\n",
        "print(metrics.silhouette_score(Airlines2_transformed,y_hc2))"
      ],
      "execution_count": 51,
      "outputs": [
        {
          "output_type": "stream",
          "name": "stdout",
          "text": [
            "0.3240550069814065\n"
          ]
        }
      ]
    },
    {
      "cell_type": "code",
      "metadata": {
        "id": "uvROz5oDBvYR",
        "colab": {
          "base_uri": "https://localhost:8080/"
        },
        "outputId": "958f04a8-ea8a-4092-d3c9-8007347dae50"
      },
      "source": [
        "#Calculating silhouette score for complete linkage method\n",
        "print(metrics.silhouette_score(Airlines2_transformed,y_hc3))"
      ],
      "execution_count": 52,
      "outputs": [
        {
          "output_type": "stream",
          "name": "stdout",
          "text": [
            "0.19985213995606269\n"
          ]
        }
      ]
    },
    {
      "cell_type": "code",
      "metadata": {
        "id": "-SJ2pSkLBvYS",
        "colab": {
          "base_uri": "https://localhost:8080/"
        },
        "outputId": "3f946db2-7264-4264-8b1e-cbd477a27679"
      },
      "source": [
        "#Calculating silhouette score for single linkage method\n",
        "print(metrics.silhouette_score(Airlines2_transformed,y_hc4))"
      ],
      "execution_count": 53,
      "outputs": [
        {
          "output_type": "stream",
          "name": "stdout",
          "text": [
            "0.2971406781364072\n"
          ]
        }
      ]
    },
    {
      "cell_type": "code",
      "metadata": {
        "id": "4x2cCyn8BvYS",
        "colab": {
          "base_uri": "https://localhost:8080/"
        },
        "outputId": "9dc32e60-3d97-42f9-fbeb-2db5e9d0d292"
      },
      "source": [
        "#Calculating silhouette score for K Means method\n",
        "print(metrics.silhouette_score(Airlines2_transformed,clusters_new.labels_))"
      ],
      "execution_count": 54,
      "outputs": [
        {
          "output_type": "stream",
          "name": "stdout",
          "text": [
            "0.32518610185189556\n"
          ]
        }
      ]
    },
    {
      "cell_type": "markdown",
      "metadata": {
        "id": "j2AIIgBoBvYT"
      },
      "source": [
        "# Conclusion:-After applying of different type of hierarchical clustering & Kmeans method we found that kmeans clustering is sensitive for outlier but giving high silhouette score & hierarchical clusterical are way more complex to understable & centroid linkage give better result its silhouette score is similar to kmeans clustering, in heirarchical cluster other linkage method  have biased clustering means 70% data is belongs to only one cluster so we are predict the result only kmeans clustering"
      ]
    },
    {
      "cell_type": "markdown",
      "metadata": {
        "id": "vQZE5LHPBvYU"
      },
      "source": [
        "# 5 clusters are perfect for making infrences on the data"
      ]
    }
  ]
}